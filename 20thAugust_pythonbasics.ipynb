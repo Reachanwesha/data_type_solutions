{
 "cells": [
  {
   "cell_type": "code",
   "execution_count": 59,
   "id": "8b33dbb2",
   "metadata": {},
   "outputs": [
    {
     "name": "stdout",
     "output_type": "stream",
     "text": [
      "ahsewna\n"
     ]
    }
   ],
   "source": [
    "string=\"anwesha\"\n",
    "rev_string= string[::-1]\n",
    "print(rev_string)"
   ]
  },
  {
   "cell_type": "code",
   "execution_count": 60,
   "id": "a73780bd",
   "metadata": {},
   "outputs": [
    {
     "name": "stdout",
     "output_type": "stream",
     "text": [
      "enter your string:\n",
      "the string is a palindrome\n"
     ]
    }
   ],
   "source": [
    "#check if string is palindrome.\n",
    "string = str(input('enter your string:'))\n",
    "rev_string=string[::-1]\n",
    "if (string == rev_string) :\n",
    "    print('the string is a palindrome')\n",
    "else:\n",
    "    print('the string is not a palindrome')"
   ]
  },
  {
   "cell_type": "code",
   "execution_count": 61,
   "id": "a3fb3a91",
   "metadata": {},
   "outputs": [
    {
     "name": "stdout",
     "output_type": "stream",
     "text": [
      "enter your string:\n",
      "\n"
     ]
    }
   ],
   "source": [
    "#string to uppercase\n",
    "string = str(input('enter your string:'))\n",
    "string_upper = string.upper()\n",
    "print(string_upper)"
   ]
  },
  {
   "cell_type": "code",
   "execution_count": null,
   "id": "98aac724",
   "metadata": {},
   "outputs": [],
   "source": [
    "#string to lowercase\n",
    "string = str(input('enter your string:'))\n",
    "string_lower = string.lower()\n",
    "print(string_lower)"
   ]
  },
  {
   "cell_type": "code",
   "execution_count": null,
   "id": "94db180d",
   "metadata": {},
   "outputs": [],
   "source": [
    "#count no. of vowels in a string\n",
    "string = str(input('enter your string:'))\n",
    "vowels = ['a','e','i','o','u']\n",
    "count=0\n",
    "for x in string:\n",
    "    for y in vowels:\n",
    "        if (x==y):\n",
    "            count += 1\n",
    "print(count)"
   ]
  },
  {
   "cell_type": "code",
   "execution_count": null,
   "id": "f5132f18",
   "metadata": {},
   "outputs": [],
   "source": [
    "#find no. of consonants in a string  \n",
    "ccount = 0;  \n",
    "str = input('enter your string:')  \n",
    "for i in range(0,len(str)):   \n",
    "    if str[i] in ('a',\"e\",\"i\",\"o\",\"u\"):  \n",
    "        vcount = vcount + 1;  \n",
    "    elif (str[i] >= 'a' and str[i] <= 'z'):  \n",
    "        ccount = ccount + 1;   \n",
    "print(\"Total number of  consonant are\" );  \n",
    "print(ccount);  \n"
   ]
  },
  {
   "cell_type": "code",
   "execution_count": null,
   "id": "c90fd5bb",
   "metadata": {},
   "outputs": [],
   "source": [
    "#remove all whitespace from str\n",
    "str = input('enter your string:')  \n",
    "new_str = str.replace(\" \",\"\")\n",
    "\n",
    "print(new_str)"
   ]
  },
  {
   "cell_type": "code",
   "execution_count": 4,
   "id": "38688fe6",
   "metadata": {},
   "outputs": [
    {
     "name": "stdout",
     "output_type": "stream",
     "text": [
      "enter your string:wwfty7uyhbv\n",
      "11\n"
     ]
    }
   ],
   "source": [
    "#find length of a string without using len function\n",
    "sen = str(input('enter your string:'))\n",
    "sen1=sum(1 for x in sen)\n",
    "print(sen1)\n",
    "\n",
    "    "
   ]
  },
  {
   "cell_type": "code",
   "execution_count": null,
   "id": "59853b51",
   "metadata": {},
   "outputs": [],
   "source": [
    "#Check if a string contains a specific word.\n",
    "sen = str(input('enter your string:'))\n",
    "count=0\n",
    "for i in range(0,len(sen)):   \n",
    "    if sen[i] in ('beauty'):  \n",
    "        count = count + 1;\n",
    "print ('string contains the specific word beauty.')\n",
    "    "
   ]
  },
  {
   "cell_type": "code",
   "execution_count": null,
   "id": "58b03dc5",
   "metadata": {},
   "outputs": [],
   "source": [
    "#replace word in str with another\n",
    "sen = 'i love ice cream'\n",
    "new_sen = sen.replace('ice cream','gelato')\n",
    "print(new_sen)"
   ]
  },
  {
   "cell_type": "code",
   "execution_count": null,
   "id": "9f2b3493",
   "metadata": {},
   "outputs": [],
   "source": [
    "#Count the occurrences of a word in a string.\n",
    "sen = 'i love ice cream'\n",
    "count=0\n",
    "for i in range(0,len(sen)):     \n",
    "    count = count + 1;\n",
    "print(count)"
   ]
  },
  {
   "cell_type": "code",
   "execution_count": null,
   "id": "99aef510",
   "metadata": {},
   "outputs": [],
   "source": [
    "#Find the first occurrence of a word in a string.\n",
    "sen = 'i love ice cream'\n",
    "count=0\n",
    "for i in range(0,len(sen)):\n",
    "    count=count+1\n",
    "    new_sen=sen.find('ice cream')\n",
    "print(new_sen)\n",
    "        \n",
    "        "
   ]
  },
  {
   "cell_type": "code",
   "execution_count": null,
   "id": "f1808331",
   "metadata": {},
   "outputs": [],
   "source": [
    "sen = 'i love that one ice cream'\n",
    "word = 'ice'\n",
    "count=0\n",
    "for i in range(0,len(sen)):\n",
    "    count=count+1\n",
    "    new_sen=sen.rindex('ice')\n",
    "print(new_sen)\n",
    "        "
   ]
  },
  {
   "cell_type": "code",
   "execution_count": null,
   "id": "3511c75d",
   "metadata": {},
   "outputs": [],
   "source": [
    "#Split a string into a list of words.\n",
    "sen = str(input('enter a sentence'))\n",
    "for i in range(0,len(sen)):\n",
    "     if sen[i] in (' '):\n",
    "            new_sen=sen.split()\n",
    "print(new_sen)"
   ]
  },
  {
   "cell_type": "code",
   "execution_count": null,
   "id": "4dc866a5",
   "metadata": {},
   "outputs": [],
   "source": [
    "#Join a list of words into a string.\n",
    "sen=['i', 'love', 'that', 'one', 'ice', \"cream'\"]\n",
    "emptystr = \"\"\n",
    "for i in sen:\n",
    "    emptystr += i +' '\n",
    "print(emptystr)"
   ]
  },
  {
   "cell_type": "code",
   "execution_count": null,
   "id": "9c57f300",
   "metadata": {},
   "outputs": [],
   "source": [
    "#Convert a string where words are separated by spaces to one where words\n",
    "#are separated by underscores.\n",
    "string1 = \"i love that one ice cream\"\n",
    "string2 = 0\n",
    "for i in range(0,len(string1)):\n",
    "     if string1[i] in (' '):\n",
    "            string2=string1.replace(' ','_')\n",
    "print(string2)"
   ]
  },
  {
   "cell_type": "code",
   "execution_count": null,
   "id": "31b078e6",
   "metadata": {},
   "outputs": [],
   "source": [
    "#Check if a string starts with a specific word or phrase.\n",
    "string1 =  \"i love that one ice cream\"\n",
    "word='i'\n",
    "if (string1[0]=='i'):\n",
    "    print('string starts with a specific word')\n",
    "else:\n",
    "    print('string does not starts with a specific word')\n",
    "    "
   ]
  },
  {
   "cell_type": "code",
   "execution_count": null,
   "id": "b43533b0",
   "metadata": {},
   "outputs": [],
   "source": [
    "#Convert a string to title case (e.g., \"hello world\" to \"Hello World\").\n",
    "string = \"Hi i am anwesha mandal\"\n",
    "new_string = string.title()\n",
    "print(new_string)"
   ]
  },
  {
   "cell_type": "code",
   "execution_count": null,
   "id": "1b796b73",
   "metadata": {},
   "outputs": [],
   "source": [
    "#Find the longest word in a string.\n",
    "string = \"I love travelling to new destinations\"\n",
    "word = 0\n",
    "length=0\n",
    "for word in string.split():\n",
    "    if(len(word) > length):\n",
    "        length = len(word)\n",
    "print(word)\n",
    "print(length)"
   ]
  },
  {
   "cell_type": "code",
   "execution_count": null,
   "id": "648c99b4",
   "metadata": {},
   "outputs": [],
   "source": [
    "#Find the shortest word in a string.\n",
    "string = \"I love travelling to new destinations\"\n",
    "shortest = min(string.split(), key=len)\n",
    "print(\"Shortest word is: \", shortest)\n",
    "print(\"And its length is: \", len(shortest))"
   ]
  },
  {
   "cell_type": "code",
   "execution_count": null,
   "id": "31210f92",
   "metadata": {},
   "outputs": [],
   "source": [
    "#Reverse the order of words in a string.\n",
    "string = \"I love travelling to new destinations\"\n",
    "new_string=string[::-1]\n",
    "print(new_string)"
   ]
  },
  {
   "cell_type": "code",
   "execution_count": null,
   "id": "416798a1",
   "metadata": {},
   "outputs": [],
   "source": [
    "#Check if a string is alphanumeric.\n",
    "string='g987h24'\n",
    "if string.isalnum()is True:\n",
    "    print(\"string is alphanumeric.\")\n",
    "else:\n",
    "    print('string is not alphanumeric.')"
   ]
  },
  {
   "cell_type": "code",
   "execution_count": null,
   "id": "1b7fae97",
   "metadata": {
    "scrolled": true
   },
   "outputs": [],
   "source": [
    "#Extract all digits from a string.\n",
    "a = []\n",
    "line = \"abcd 1234 efgh 56.78 ij\"\n",
    "for word in line.split():\n",
    "    try:\n",
    "        a.append(float(word))\n",
    "    except ValueError:\n",
    "        pass\n",
    "print(a)"
   ]
  },
  {
   "cell_type": "code",
   "execution_count": null,
   "id": "95459ec2",
   "metadata": {},
   "outputs": [],
   "source": [
    "#Extract all digits from a string.\n",
    "a = []\n",
    "line = \"abcd 1234 efgh 56.78 ij\"\n",
    "for w in line.split():\n",
    "    if w.isdigit():\n",
    "        a.append(w)\n",
    "    else:\n",
    "        continue\n",
    "print(a)"
   ]
  },
  {
   "cell_type": "code",
   "execution_count": null,
   "id": "f530ea7d",
   "metadata": {},
   "outputs": [],
   "source": [
    "#Extract all alphabets from a string.\n",
    "a = []\n",
    "line = \"abcd 1234 efgh 56.78 ij\"\n",
    "for w in line.split():\n",
    "    if w.isalpha():\n",
    "        a.append(w)\n",
    "print(a)"
   ]
  },
  {
   "cell_type": "code",
   "execution_count": null,
   "id": "362badf9",
   "metadata": {},
   "outputs": [],
   "source": [
    "#Count the number of uppercase letters in a string.\n",
    "a = \"I Love Travelling To New Destinations\"\n",
    "l=[]\n",
    "count=0\n",
    "for w in a:\n",
    "    if (w.isupper()):\n",
    "        count=count+1\n",
    "        l.append(w)\n",
    "print(count)"
   ]
  },
  {
   "cell_type": "code",
   "execution_count": 29,
   "id": "58942237",
   "metadata": {},
   "outputs": [
    {
     "name": "stdout",
     "output_type": "stream",
     "text": [
      "26\n"
     ]
    }
   ],
   "source": [
    "#Count the number of lowercase letters in a string.\n",
    "a = \"I Love Travelling To New Destinations\"\n",
    "l=[]\n",
    "count=0\n",
    "for w in a:\n",
    "    if (w.islower()):\n",
    "        count=count+1\n",
    "        l.append(w)\n",
    "print(count)"
   ]
  },
  {
   "cell_type": "code",
   "execution_count": 28,
   "id": "d943ba77",
   "metadata": {},
   "outputs": [
    {
     "name": "stdout",
     "output_type": "stream",
     "text": [
      "i lOVE tRAVELLING tO nEW dESTINATIONS\n"
     ]
    }
   ],
   "source": [
    "#Swap the case of each character in a string.\n",
    "a = \"I Love Travelling To New Destinations\"\n",
    "l=\"\"\n",
    "count=0\n",
    "for w in a:\n",
    "    if (w.islower()):\n",
    "        l+=w.upper()\n",
    "    else:\n",
    "        l+=w.lower()\n",
    "print(l)"
   ]
  },
  {
   "cell_type": "code",
   "execution_count": null,
   "id": "62264b36",
   "metadata": {},
   "outputs": [],
   "source": [
    "#Remove a specific word from a string.\n",
    "a = \"I Love Travelling To New Destinations\"\n",
    "c=0\n",
    "c=a.replace(\"Love\",\" \")\n",
    "print(c)\n",
    "    "
   ]
  },
  {
   "cell_type": "code",
   "execution_count": null,
   "id": "d82fdc8e",
   "metadata": {},
   "outputs": [],
   "source": [
    "#Check if a string is a valid email address.\n",
    "id1 = \"example@domain.com\"\n",
    "check = \"@\"\n",
    "for w in id1:\n",
    "    if w==check:\n",
    "        print('valid email id')\n",
    "        break;\n",
    "else:\n",
    "    print('invalid email id')"
   ]
  },
  {
   "cell_type": "code",
   "execution_count": 2,
   "id": "178ff9f2",
   "metadata": {},
   "outputs": [
    {
     "name": "stdout",
     "output_type": "stream",
     "text": [
      "enter your email id -: reachanwesha@gmail.com\n",
      "The original string is : reachanwesha@gmail.com\n",
      "The extracted domain name : reachanwesha\n"
     ]
    }
   ],
   "source": [
    "#Extract the username from an email address string.\n",
    "test_str = str(input(\"enter your email id -: \"))\n",
    "print(\"The original string is : \" + str(test_str))\n",
    "res = test_str[ : test_str.index('@')] \n",
    "print(\"The extracted domain name : \" + str(res))"
   ]
  },
  {
   "cell_type": "code",
   "execution_count": 3,
   "id": "773cce22",
   "metadata": {},
   "outputs": [
    {
     "name": "stdout",
     "output_type": "stream",
     "text": [
      "enter your email id -: reachanwi@gmail.com\n",
      "The original string is : reachanwi@gmail.com\n",
      "The extracted domain name : gmail.com\n"
     ]
    }
   ],
   "source": [
    "#Extract the domain name from an email address string.\n",
    "test_str = str(input(\"enter your email id -: \"))\n",
    "print(\"The original string is : \" + str(test_str))\n",
    "res = test_str[ test_str.index('@') + 1 : ]\n",
    "print(\"The extracted domain name : \" + str(res))"
   ]
  },
  {
   "cell_type": "code",
   "execution_count": 13,
   "id": "c6e597a4",
   "metadata": {},
   "outputs": [
    {
     "name": "stdout",
     "output_type": "stream",
     "text": [
      "i love mangoes\n"
     ]
    }
   ],
   "source": [
    "#Replace multiple spaces in a string with a single space.\n",
    "string1 = \"i   love   mangoes\"\n",
    "string = \"\"\n",
    "for w in string1.split():\n",
    "    string=string1.replace(\"  \",\"\")\n",
    "print(string)"
   ]
  },
  {
   "cell_type": "code",
   "execution_count": 15,
   "id": "e775c096",
   "metadata": {},
   "outputs": [
    {
     "name": "stdout",
     "output_type": "stream",
     "text": [
      "Collecting validators\n",
      "  Downloading validators-0.21.2-py3-none-any.whl (25 kB)\n",
      "Installing collected packages: validators\n",
      "Successfully installed validators-0.21.2\n",
      "\u001b[33mWARNING: There was an error checking the latest version of pip.\u001b[0m\u001b[33m\n",
      "\u001b[0mNote: you may need to restart the kernel to use updated packages.\n"
     ]
    }
   ],
   "source": [
    "pip install validators"
   ]
  },
  {
   "cell_type": "code",
   "execution_count": 18,
   "id": "89a73b79",
   "metadata": {},
   "outputs": [
    {
     "name": "stdout",
     "output_type": "stream",
     "text": [
      "Url is valid\n"
     ]
    }
   ],
   "source": [
    "#Check if a string is a valid URL.\n",
    "import validators\n",
    "import validators\n",
    "valid=validators.url('https://www.codespeedy.com/')\n",
    "if valid==True:\n",
    "    print(\"Url is valid\")\n",
    "else:\n",
    "    print(\"Invalid url\")\n"
   ]
  },
  {
   "cell_type": "code",
   "execution_count": 37,
   "id": "917f5e35",
   "metadata": {},
   "outputs": [
    {
     "name": "stdout",
     "output_type": "stream",
     "text": [
      "the frequency of i character in a string 4\n",
      "the frequency of l character in a string 3\n",
      "the frequency of o character in a string 3\n",
      "the frequency of v character in a string 2\n",
      "the frequency of e character in a string 4\n",
      "the frequency of t character in a string 4\n",
      "the frequency of r character in a string 1\n",
      "the frequency of a character in a string 2\n",
      "the frequency of n character in a string 4\n",
      "the frequency of g character in a string 1\n",
      "the frequency of w character in a string 1\n",
      "the frequency of d character in a string 1\n",
      "the frequency of s character in a string 2\n"
     ]
    }
   ],
   "source": [
    "#Find the frequency of each character in a string.\n",
    "string = \"i love travelling to new destinations\"\n",
    "ch1_i = 0\n",
    "ch2_l = 0\n",
    "ch3_o = 0\n",
    "ch4_v = 0\n",
    "ch5_e = 0\n",
    "ch6_t = 0\n",
    "ch7_r = 0\n",
    "ch8_a = 0\n",
    "ch9_n = 0\n",
    "ch10_g = 0\n",
    "ch11_w = 0\n",
    "ch12_d = 0\n",
    "ch13_s = 0\n",
    "for w in string :\n",
    "    ch1_i=string.count(\"i\")\n",
    "print('the frequency of i character in a string',ch1_i)\n",
    "ch2_l=string.count(\"l\")\n",
    "print('the frequency of l character in a string',ch2_l)\n",
    "ch3_o=string.count(\"o\")\n",
    "print('the frequency of o character in a string',ch3_o)\n",
    "ch4_v=string.count(\"v\")\n",
    "print('the frequency of v character in a string',ch4_v)\n",
    "ch5_e=string.count(\"e\")\n",
    "print('the frequency of e character in a string',ch5_e)\n",
    "ch6_t=string.count(\"t\")\n",
    "print('the frequency of t character in a string',ch6_t)\n",
    "ch7_r=string.count(\"r\")\n",
    "print('the frequency of r character in a string',ch7_r)\n",
    "ch8_a=string.count(\"a\")\n",
    "print('the frequency of a character in a string',ch8_a) \n",
    "ch9_n=string.count(\"n\")\n",
    "print( 'the frequency of n character in a string',ch9_n)     \n",
    "ch10_g=string.count(\"g\")\n",
    "print('the frequency of g character in a string',ch10_g)\n",
    "ch11_w=string.count(\"w\")\n",
    "print('the frequency of w character in a string', ch11_w)\n",
    "ch12_d=string.count(\"d\")\n",
    "print('the frequency of d character in a string',ch12_d) \n",
    "ch13_s=string.count(\"s\")\n",
    "print('the frequency of s character in a string',ch13_s) "
   ]
  },
  {
   "cell_type": "code",
   "execution_count": 56,
   "id": "b9b35cbf",
   "metadata": {},
   "outputs": [
    {
     "name": "stdout",
     "output_type": "stream",
     "text": [
      "The string after punctuation filter : hello world  how do you do  \n"
     ]
    }
   ],
   "source": [
    "#Remove all punctuation from a string.\n",
    "test_str = \"hello, world ! how do you do ? ;\"\n",
    "punc = '''!()-[]{};:'\"\\,<>./?@#$%^&*_~'''\n",
    "for w in test_str:\n",
    "    if w in punc:\n",
    "        test_str = test_str.replace(w, \"\")\n",
    "print(\"The string after punctuation filter : \" + test_str)\n"
   ]
  },
  {
   "cell_type": "code",
   "execution_count": 7,
   "id": "a6dac4a8",
   "metadata": {},
   "outputs": [
    {
     "name": "stdout",
     "output_type": "stream",
     "text": [
      "enter your string: 23rt\n",
      "string contains only digits\n",
      "string contains only digits\n",
      "string doesnot contains only digits\n",
      "string doesnot contains only digits\n"
     ]
    }
   ],
   "source": [
    "#Check if a string contains only digits.\n",
    "string = input('enter your string: ')\n",
    "for w in string:\n",
    "    if w.isdigit(): \n",
    "        print(\"string contains only digits\")\n",
    "    else:\n",
    "        print(\"string doesnot contains only digits\")"
   ]
  },
  {
   "cell_type": "code",
   "execution_count": 8,
   "id": "84bcd1cc",
   "metadata": {},
   "outputs": [
    {
     "name": "stdout",
     "output_type": "stream",
     "text": [
      "enter your string: 3456789iuytrdfvbn\n",
      "string doesnot contains only alphabets\n",
      "string doesnot contains only alphabets\n",
      "string doesnot contains only alphabets\n",
      "string doesnot contains only alphabets\n",
      "string doesnot contains only alphabets\n",
      "string doesnot contains only alphabets\n",
      "string doesnot contains only alphabets\n",
      "string contains only alphabets\n",
      "string contains only alphabets\n",
      "string contains only alphabets\n",
      "string contains only alphabets\n",
      "string contains only alphabets\n",
      "string contains only alphabets\n",
      "string contains only alphabets\n",
      "string contains only alphabets\n",
      "string contains only alphabets\n",
      "string contains only alphabets\n"
     ]
    }
   ],
   "source": [
    "#Check if a string contains only alphabets.\n",
    "string = input('enter your string: ')\n",
    "for w in string:\n",
    "    if w.isalpha():\n",
    "        print(\"string contains only alphabets\")\n",
    "    else:\n",
    "        print(\"string doesnot contains only alphabets\")"
   ]
  },
  {
   "cell_type": "code",
   "execution_count": 12,
   "id": "6b6cf3a6",
   "metadata": {},
   "outputs": [
    {
     "name": "stdout",
     "output_type": "stream",
     "text": [
      "['s', 'd', 'f', 'g', 'h']\n"
     ]
    }
   ],
   "source": [
    "#Convert a string to a list of characters.\n",
    "string = \"sdfgh\"\n",
    "list_str = list(string)\n",
    "type(list_str)\n",
    "print(list_str)"
   ]
  },
  {
   "cell_type": "code",
   "execution_count": 18,
   "id": "a12307fc",
   "metadata": {},
   "outputs": [
    {
     "name": "stdout",
     "output_type": "stream",
     "text": [
      "enter your first word: listen\n",
      "enter your second word: silent\n",
      "listen silent two strings are anagrams.\n"
     ]
    }
   ],
   "source": [
    "#Check if two strings are anagrams.\n",
    "str_1 = input(\"enter your first word: \")\n",
    "str_2 = input(\"enter your second word: \")\n",
    "new_str1 = sorted(str_1)\n",
    "new_str2 = sorted(str_2)\n",
    "if (new_str1== new_str2):\n",
    "    print(str_1,str_2, 'two strings are anagrams.')"
   ]
  },
  {
   "cell_type": "code",
   "execution_count": 19,
   "id": "46c1c1a0",
   "metadata": {},
   "outputs": [],
   "source": [
    "#Encode a string using a Caesar cipher.\n"
   ]
  },
  {
   "cell_type": "code",
   "execution_count": null,
   "id": "ddbcc551",
   "metadata": {},
   "outputs": [],
   "source": [
    "#Decode a Caesar cipher encoded string."
   ]
  },
  {
   "cell_type": "code",
   "execution_count": 38,
   "id": "211cf7d4",
   "metadata": {},
   "outputs": [
    {
     "name": "stdout",
     "output_type": "stream",
     "text": [
      "Collecting counter\n",
      "  Downloading Counter-1.0.0.tar.gz (5.2 kB)\n",
      "  Preparing metadata (setup.py) ... \u001b[?25ldone\n",
      "\u001b[?25hBuilding wheels for collected packages: counter\n",
      "  Building wheel for counter (setup.py) ... \u001b[?25ldone\n",
      "\u001b[?25h  Created wheel for counter: filename=Counter-1.0.0-py3-none-any.whl size=5394 sha256=f3a79626ef5b6d6b31fdde183140681434c38175abe9cf389ddc1437b57a6b92\n",
      "  Stored in directory: /Users/anwesha/Library/Caches/pip/wheels/05/78/ee/7f4336de4d2631224a4b303be03e48eeb01db89bb5bd790f5d\n",
      "Successfully built counter\n",
      "Installing collected packages: counter\n",
      "Successfully installed counter-1.0.0\n",
      "\u001b[33mWARNING: There was an error checking the latest version of pip.\u001b[0m\u001b[33m\n",
      "\u001b[0mNote: you may need to restart the kernel to use updated packages.\n"
     ]
    }
   ],
   "source": [
    "pip install counter"
   ]
  },
  {
   "cell_type": "code",
   "execution_count": 41,
   "id": "7199a70f",
   "metadata": {},
   "outputs": [
    {
     "name": "stdout",
     "output_type": "stream",
     "text": [
      "[('Geeks', 5), ('to', 4), ('and', 4), ('for', 3)]\n"
     ]
    }
   ],
   "source": [
    "#Find the most frequent word in a string.\n",
    " \n",
    "from collections import Counter\n",
    "data_set = \"Welcome to the world of Geeks \" \\\n",
    "\"This portal has been created to provide well written well\" \\\n",
    "\"thought and well explained solutions for selected questions \" \\\n",
    "\"If you like Geeks for Geeks and would like to contribute \" \\\n",
    "\"here is your chance You can write article and mail your article \" \\\n",
    "\" to contribute at geeksforgeeks org See your article appearing on \" \\\n",
    "\"the Geeks for Geeks main page and help thousands of other Geeks. \" \\\n",
    "\n",
    "split_it = data_set.split()\n",
    "\n",
    "Counters_found = Counter(split_it)\n",
    "most_occur = Counters_found.most_common(4)\n",
    "print(most_occur)"
   ]
  },
  {
   "cell_type": "code",
   "execution_count": 42,
   "id": "3fa43e50",
   "metadata": {},
   "outputs": [
    {
     "name": "stdout",
     "output_type": "stream",
     "text": [
      "Please enter a sentence: geeks for geeks\n",
      "The words in that sentence are:  ['geeks', 'for', 'geeks']\n",
      "Here are the unique words in that sentence:  {'r', 'k', 'o', 'e', 's', ' ', 'f', 'g'}\n"
     ]
    }
   ],
   "source": [
    "#Find all unique words in a string.\n",
    "str1 = input(\"Please enter a sentence: \")\n",
    "\n",
    "print(\"The words in that sentence are: \", str1.split())\n",
    "\n",
    "unique = set(str1)\n",
    "print(\"Here are the unique words in that sentence: \",unique)"
   ]
  },
  {
   "cell_type": "code",
   "execution_count": 43,
   "id": "94899001",
   "metadata": {},
   "outputs": [
    {
     "ename": "SyntaxError",
     "evalue": "invalid decimal literal (<ipython-input-43-2da1d147909c>, line 2)",
     "output_type": "error",
     "traceback": [
      "\u001b[0;36m  File \u001b[0;32m\"<ipython-input-43-2da1d147909c>\"\u001b[0;36m, line \u001b[0;32m2\u001b[0m\n\u001b[0;31m    123_var = 0\u001b[0m\n\u001b[0m       ^\u001b[0m\n\u001b[0;31mSyntaxError\u001b[0m\u001b[0;31m:\u001b[0m invalid decimal literal\n"
     ]
    }
   ],
   "source": [
    "#Count the number of syllables in a string.\n"
   ]
  },
  {
   "cell_type": "code",
   "execution_count": 64,
   "id": "64ee26c0",
   "metadata": {},
   "outputs": [
    {
     "name": "stdout",
     "output_type": "stream",
     "text": [
      "enter your string- @aasdfgh\n",
      "string contains special charactors\n"
     ]
    }
   ],
   "source": [
    "#Check if a string contains any special characters.\n",
    "string = input(\"enter your string- \")\n",
    "special_ch = (\"@ ! # $ % ^ & * () _ \")\n",
    "for w in string:\n",
    "    for y in special_ch:\n",
    "        if (w==y):\n",
    "            print(\"string contains special charactors\")\n",
    "    break;\n",
    "else:\n",
    "    print(\"no special chacartors\")"
   ]
  },
  {
   "cell_type": "code",
   "execution_count": 2,
   "id": "56ddc80f",
   "metadata": {},
   "outputs": [],
   "source": [
    "\n",
    "for i in range(0, len(list)):\n",
    "            if (list[i] == word):\n",
    "                count = count + 1\n",
    " \n",
    "            if(count == N):\n",
    "                del(list[i])\n",
    "                return True\n",
    " \n",
    "    return False"
   ]
  },
  {
   "cell_type": "code",
   "execution_count": 25,
   "id": "1006c313",
   "metadata": {},
   "outputs": [
    {
     "name": "stdout",
     "output_type": "stream",
     "text": [
      "['i', 'enjoy', 'coding']\n",
      "enter your word to be del- enjoy\n",
      "enter the index you wish to del - 1\n",
      "Updated list is:  ['i', 'coding']\n"
     ]
    }
   ],
   "source": [
    "#Remove the nth word from a string.\n",
    "def RemoveIthWord(list, word, N):\n",
    "    count = 0\n",
    " \n",
    "    for i in range(0, len(li)):\n",
    "            if (li[i] == word):\n",
    "                count = count + 1\n",
    " \n",
    "            if(count == N):\n",
    "                del(li[i])\n",
    "                return True\n",
    "    \n",
    " \n",
    "    return False\n",
    "\n",
    "li = list(mystring.split(\" \"))\n",
    "print(li)\n",
    "count = 0\n",
    "mystring = \"i enjoy coding\" \n",
    "word = input(\"enter your word to be del- \")\n",
    "N = int(input('enter the index you wish to del - '))\n",
    " \n",
    "flag = RemoveIthWord(li, word, N)\n",
    " \n",
    "if (flag == True):\n",
    "    print(\"Updated list is: \", li)\n",
    "else:\n",
    "    print(\"Item not Updated\")\n"
   ]
  },
  {
   "cell_type": "code",
   "execution_count": 44,
   "id": "3f1ca9f0",
   "metadata": {},
   "outputs": [
    {
     "name": "stdout",
     "output_type": "stream",
     "text": [
      "['i', 'enjoy', 'coding', 'and', 'cooking']\n",
      "enter your word to be inserted - wow\n",
      "enter the index you wish to insert - 2\n",
      "Item not Updated\n"
     ]
    }
   ],
   "source": [
    "#Insert a word at the nth position in a string.\n",
    "def InsertIthWord(li, word, N):\n",
    "    count = 0\n",
    " \n",
    "    for i in range(0, len(li)):\n",
    "            if (li[i] == word):\n",
    "                count = count + 1\n",
    " \n",
    "            if(count == N):\n",
    "                li.insert(N,input(\"enter your word to be inserted - \"))\n",
    "                return True\n",
    "                \n",
    "    \n",
    " \n",
    "    return False\n",
    "\n",
    "li = list(mystring.split(\" \"))\n",
    "print(li)\n",
    "count = 0\n",
    "mystring = \"i enjoy coding and cooking\" \n",
    "word = input(\"enter your word to be inserted - \")\n",
    "N = int(input('enter the index you wish to insert - '))\n",
    " \n",
    "flag = InsertIthWord(li, word, N)\n",
    " \n",
    "if (flag == True):\n",
    "    print(\"Updated list is: \", li)\n",
    "else:\n",
    "    print(\"Item not Updated\")\n"
   ]
  },
  {
   "cell_type": "code",
   "execution_count": 45,
   "id": "a820e3b4",
   "metadata": {},
   "outputs": [
    {
     "name": "stdout",
     "output_type": "stream",
     "text": [
      "['apple', 'banana', 'cherry']\n"
     ]
    }
   ],
   "source": [
    "#Convert a CSV string to a list of lists.\n",
    "x = 'apple,banana,cherry'\n",
    "output = x.split(',')\n",
    "print(output)"
   ]
  },
  {
   "cell_type": "markdown",
   "id": "91bc428e",
   "metadata": {},
   "source": [
    "# 2. Lists "
   ]
  },
  {
   "cell_type": "code",
   "execution_count": 58,
   "id": "d7d8c637",
   "metadata": {},
   "outputs": [
    {
     "name": "stdout",
     "output_type": "stream",
     "text": [
      "[1, 2, 3, 4, 5, 6, 7, 8, 9, 10]\n"
     ]
    }
   ],
   "source": [
    "#Create a list with integers from 1 to 10.\n",
    "mylist=[]\n",
    "for i in range(1,11):\n",
    "    mylist.append(i)\n",
    "print(mylist)\n",
    "    \n"
   ]
  },
  {
   "cell_type": "code",
   "execution_count": 3,
   "id": "d60f6025",
   "metadata": {},
   "outputs": [
    {
     "name": "stdout",
     "output_type": "stream",
     "text": [
      "10\n"
     ]
    },
    {
     "data": {
      "text/plain": [
       "10"
      ]
     },
     "execution_count": 3,
     "metadata": {},
     "output_type": "execute_result"
    }
   ],
   "source": [
    "#Find the length of a list without using the `len()` function.\n",
    "mylist = [1, 2, 3, 4, 5, 6, 7, 8, 9, 10]\n",
    "mylist1=sum(1 for x in mylist)\n",
    "print(mylist1)\n"
   ]
  },
  {
   "cell_type": "code",
   "execution_count": 6,
   "id": "77cb3c7a",
   "metadata": {},
   "outputs": [
    {
     "name": "stdout",
     "output_type": "stream",
     "text": [
      "[1, 2, 3, 4, 5, 6, 7, 8, 9, 10, 11]\n"
     ]
    }
   ],
   "source": [
    "#Append an element to the end of a list.\n",
    "mylist = [1, 2, 3, 4, 5, 6, 7, 8, 9, 10]\n",
    "mylist.append(11)\n",
    "print(mylist)"
   ]
  },
  {
   "cell_type": "code",
   "execution_count": 11,
   "id": "8b2e9760",
   "metadata": {},
   "outputs": [
    {
     "name": "stdout",
     "output_type": "stream",
     "text": [
      "enter an element you wish to enter: 2\n",
      "enter an index you wish your element to enter :5\n",
      "[1, 2, 3, 4, 5, 2, 6, 7, 8, 9, 10]\n"
     ]
    }
   ],
   "source": [
    "#Insert an element at a specific index in a list.\n",
    "mylist = [1, 2, 3, 4, 5, 6, 7, 8, 9, 10]\n",
    "a=int(input('enter an element you wish to enter: '))\n",
    "i=int(input('enter an index you wish your element to enter :'))\n",
    "mylist.insert(i,a)\n",
    "print(mylist)"
   ]
  },
  {
   "cell_type": "code",
   "execution_count": 17,
   "id": "c278138d",
   "metadata": {},
   "outputs": [
    {
     "name": "stdout",
     "output_type": "stream",
     "text": [
      "enter an index you wish your element to remove :3\n",
      "[1, 2, 4, 5, 6, 7, 8, 9, 10]\n"
     ]
    }
   ],
   "source": [
    "#Remove an element from a list by its index.\n",
    "mylist = [1, 2, 3, 4, 5, 6, 7, 8, 9, 10]\n",
    "#a=int(input('enter an element you wish to remove: '))\n",
    "i=int(input('enter an index you wish your element to remove :'))\n",
    "mylist.remove(i)\n",
    "print(mylist)"
   ]
  },
  {
   "cell_type": "code",
   "execution_count": 18,
   "id": "f15f76b1",
   "metadata": {},
   "outputs": [
    {
     "name": "stdout",
     "output_type": "stream",
     "text": [
      "enter an element you wish to remove: 10\n",
      "[1, 2, 3, 4, 5, 6, 7, 8, 9]\n"
     ]
    }
   ],
   "source": [
    "#Remove an element from a list by its value.\n",
    "mylist = [1, 2, 3, 4, 5, 6, 7, 8, 9, 10]\n",
    "a=int(input('enter an element you wish to remove: '))\n",
    "#i=int(input('enter an index you wish your element to remove :'))\n",
    "mylist.remove(a)\n",
    "print(mylist)"
   ]
  },
  {
   "cell_type": "code",
   "execution_count": 26,
   "id": "3c424725",
   "metadata": {},
   "outputs": [
    {
     "name": "stdout",
     "output_type": "stream",
     "text": [
      "enter the element you wish to check : raddish\n",
      "raddish element exists in the list\n"
     ]
    }
   ],
   "source": [
    "#Check if an element exists in a list.\n",
    "mylist = [\"apple\",\"banana\",\"roses\",\"tulips\",\"raddish\",\"grapes\"]\n",
    "check = (input(\"enter the element you wish to check : \"))\n",
    "count=0\n",
    "for x in mylist:\n",
    "    if (x==check):\n",
    "        count+=1\n",
    "        break;\n",
    "if(count==1):\n",
    "    print(check,'element exists in the list')\n",
    "else:\n",
    "    print('element doesnot exists in the list')\n",
    "    "
   ]
  },
  {
   "cell_type": "code",
   "execution_count": 28,
   "id": "af492542",
   "metadata": {},
   "outputs": [
    {
     "name": "stdout",
     "output_type": "stream",
     "text": [
      "enter the element you wish to check the first occurance : raddish\n",
      "the index of raddish is 2\n"
     ]
    }
   ],
   "source": [
    "#Find the index of the first occurrence of an element in a list.\n",
    "mylist = [\"apple\",\"banana\",\"raddish\",\"roses\",\"tulips\",\"raddish\",\"grapes\"]\n",
    "check = (input(\"enter the element you wish to check the first occurance : \"))\n",
    "count=0\n",
    "for x in mylist:\n",
    "    if (x==check):\n",
    "        count+=1\n",
    "        break;\n",
    "if(count==1):\n",
    "    print('the index of', check, 'is', mylist.index(check))\n",
    "else:\n",
    "    print('error')\n",
    "    \n",
    "    "
   ]
  },
  {
   "cell_type": "code",
   "execution_count": 33,
   "id": "6dbb1f04",
   "metadata": {},
   "outputs": [
    {
     "name": "stdout",
     "output_type": "stream",
     "text": [
      "enter the element you wish to check the occurances : raddish\n",
      "3\n"
     ]
    }
   ],
   "source": [
    "#Count the occurrences of an element in a list.\n",
    "mylist = [\"apple\",\"raddish\",\"banana\",\"raddish\",\"roses\",\"tulips\",\"raddish\",\"grapes\"]\n",
    "check = (input(\"enter the element you wish to check the occurances : \"))\n",
    "count=0\n",
    "for x in mylist:\n",
    "    if (x==check):\n",
    "        count+=1\n",
    "        print(mylist.count(check))\n",
    "        break;\n",
    "\n",
    "    "
   ]
  },
  {
   "cell_type": "code",
   "execution_count": 35,
   "id": "59de9321",
   "metadata": {},
   "outputs": [
    {
     "name": "stdout",
     "output_type": "stream",
     "text": [
      "['grapes', 'raddish', 'tulips', 'roses', 'raddish', 'banana', 'raddish', 'apple']\n"
     ]
    }
   ],
   "source": [
    "#Reverse the order of elements in a list.\n",
    "mylist = [\"apple\",\"raddish\",\"banana\",\"raddish\",\"roses\",\"tulips\",\"raddish\",\"grapes\"]\n",
    "rev_list = mylist[::-1]\n",
    "print(rev_list)"
   ]
  },
  {
   "cell_type": "code",
   "execution_count": 7,
   "id": "196132b9",
   "metadata": {},
   "outputs": [
    {
     "name": "stdout",
     "output_type": "stream",
     "text": [
      "[3, 4, 6, 676, 234567, 234567]\n"
     ]
    }
   ],
   "source": [
    "#Sort a list in ascending order.\n",
    "mylist = [234567,3,6,4,676,234567]\n",
    "mylist.sort()\n",
    "print(mylist)"
   ]
  },
  {
   "cell_type": "code",
   "execution_count": 8,
   "id": "777cfae5",
   "metadata": {},
   "outputs": [
    {
     "name": "stdout",
     "output_type": "stream",
     "text": [
      "[234567, 234567, 676, 6, 4, 3]\n"
     ]
    }
   ],
   "source": [
    "#Sort a list in descending order.\n",
    "mylist = [234567,3,6,4,676,234567]\n",
    "mylist.sort()\n",
    "mylistfinal = mylist[::-1]\n",
    "print(mylistfinal)"
   ]
  },
  {
   "cell_type": "code",
   "execution_count": 17,
   "id": "4c603ea2",
   "metadata": {},
   "outputs": [
    {
     "name": "stdout",
     "output_type": "stream",
     "text": [
      "[2, 4, 6, 8, 10, 12, 14, 16, 18, 20]\n"
     ]
    }
   ],
   "source": [
    "#Create a list of even numbers from 1 to 20.\n",
    "mylist=[]\n",
    "for i in range(1,21):\n",
    "    if i%2==0:\n",
    "        mylist.append(i)\n",
    "print(mylist)\n",
    "\n",
    "        \n",
    "    \n",
    "    "
   ]
  },
  {
   "cell_type": "code",
   "execution_count": 18,
   "id": "7d4e0f16",
   "metadata": {},
   "outputs": [
    {
     "name": "stdout",
     "output_type": "stream",
     "text": [
      "[1, 3, 5, 7, 9, 11, 13, 15, 17, 19]\n"
     ]
    }
   ],
   "source": [
    "#Create a list of odd numbers from 1 to 20.\n",
    "mylist=[]\n",
    "for i in range(1,21):\n",
    "    if i%2 != 0:\n",
    "        mylist.append(i)\n",
    "print(mylist)"
   ]
  },
  {
   "cell_type": "code",
   "execution_count": 19,
   "id": "434a6480",
   "metadata": {},
   "outputs": [
    {
     "name": "stdout",
     "output_type": "stream",
     "text": [
      "469823\n"
     ]
    }
   ],
   "source": [
    "#Find the sum of all elements in a list.\n",
    "mylist = [234567,3,6,4,676,234567]\n",
    "sum_mylist = sum(mylist)\n",
    "print(sum_mylist)"
   ]
  },
  {
   "cell_type": "code",
   "execution_count": 21,
   "id": "50800f0e",
   "metadata": {},
   "outputs": [
    {
     "name": "stdout",
     "output_type": "stream",
     "text": [
      "234567\n"
     ]
    }
   ],
   "source": [
    "#Find the maximum value in a list.\n",
    "mylist = [234567,3,6,4,676,234567]\n",
    "max_value = max(mylist)\n",
    "print(max_value)"
   ]
  },
  {
   "cell_type": "code",
   "execution_count": 24,
   "id": "594eb377",
   "metadata": {},
   "outputs": [
    {
     "name": "stdout",
     "output_type": "stream",
     "text": [
      "[1, 3, 5, 7, 9, 11, 13, 15, 17, 19]\n"
     ]
    }
   ],
   "source": [
    "#Find the minimum value in a list.\n",
    "mylist=[]\n",
    "for i in range(1,21):\n",
    "    if i%2 != 0:\n",
    "        mylist.append(i)\n",
    "print(mylist)"
   ]
  },
  {
   "cell_type": "code",
   "execution_count": 28,
   "id": "9f274f24",
   "metadata": {},
   "outputs": [
    {
     "name": "stdout",
     "output_type": "stream",
     "text": [
      "[1, 4, 9, 16, 25, 36, 49, 64, 81, 100]\n"
     ]
    }
   ],
   "source": [
    "#Create a list of squares of numbers from 1 to 10.\n",
    "mylist=[]\n",
    "a=0\n",
    "for i in range(1,11):\n",
    "    a=i*i\n",
    "    #i++    \n",
    "    mylist.append(a)\n",
    "print(mylist)\n"
   ]
  },
  {
   "cell_type": "code",
   "execution_count": 36,
   "id": "dbb1d42c",
   "metadata": {},
   "outputs": [
    {
     "name": "stdout",
     "output_type": "stream",
     "text": [
      "[8, 3, 3, 6, 7, 6, 7, 9, 4, 7]\n"
     ]
    }
   ],
   "source": [
    "#Create a list of random numbers.\n",
    "import random\n",
    "rand_list=[]\n",
    "n=10\n",
    "for i in range(n):\n",
    "    rand_list.append(random.randint(3,9))\n",
    "print(rand_list)"
   ]
  },
  {
   "cell_type": "code",
   "execution_count": 44,
   "id": "6609693d",
   "metadata": {},
   "outputs": [
    {
     "name": "stdout",
     "output_type": "stream",
     "text": [
      "[2, 3, 5, 134, 6, 7, 8, 44, 45, 78]\n"
     ]
    }
   ],
   "source": [
    "#Remove duplicates from a list.\n",
    "mylist = [2,134,78,45,5,78,5,6,7,8,3,5,7,44]\n",
    "dup = []\n",
    "for i in mylist :\n",
    "    dup=list(set(mylist))\n",
    "print(dup)"
   ]
  },
  {
   "cell_type": "code",
   "execution_count": 10,
   "id": "2a70c786",
   "metadata": {},
   "outputs": [
    {
     "name": "stdout",
     "output_type": "stream",
     "text": [
      "Common elements:  ['apple', 'banana', 'pears', 'grapes', 'guava', 'kiwi']\n"
     ]
    }
   ],
   "source": [
    "#Find the common elements between two lists.\n",
    "mylist1 = ['apple','banana','pears','grapes','guava','kiwi']\n",
    "mylist2 =['mangoes','sitaphal','apple','banana','pears','grapes','guava','kiwi']\n",
    "l=[]\n",
    "count = 0\n",
    "for i in mylist1:\n",
    "    for j in mylist2:\n",
    "        if (i==j):\n",
    "            l.append(j)\n",
    "print(\"Common elements: \",l)"
   ]
  },
  {
   "cell_type": "code",
   "execution_count": 11,
   "id": "0b90b3ef",
   "metadata": {},
   "outputs": [
    {
     "name": "stdout",
     "output_type": "stream",
     "text": [
      "['apple', 'banana', 'pears', 'grapes', 'guava', 'kiwi', 'mangoes', 'sitaphal', 'apple', 'banana', 'pears', 'grapes', 'guava', 'kiwi']\n"
     ]
    }
   ],
   "source": [
    "#Merge two lists.\n",
    "mylist1 = ['apple','banana','pears','grapes','guava','kiwi']\n",
    "mylist2 =['mangoes','sitaphal','apple','banana','pears','grapes','guava','kiwi']\n",
    "print(mylist1+mylist2)\n"
   ]
  },
  {
   "cell_type": "code",
   "execution_count": 38,
   "id": "a7ffd71e",
   "metadata": {},
   "outputs": [
    {
     "name": "stdout",
     "output_type": "stream",
     "text": [
      "2\n",
      "4\n",
      "8\n",
      "16\n",
      "32\n",
      "64\n",
      "128\n",
      "256\n",
      "512\n",
      "1024\n"
     ]
    }
   ],
   "source": [
    "#Multiply all elements in a list by 2.\n",
    "l = [1, 4, 9, 16, 25, 36, 49, 64, 81, 100]\n",
    "result = 1\n",
    "for i in l:\n",
    "    result = result * 2\n",
    "    print(result)\n",
    "\n",
    "\n",
    "    "
   ]
  },
  {
   "cell_type": "code",
   "execution_count": 40,
   "id": "a86d240d",
   "metadata": {},
   "outputs": [
    {
     "name": "stdout",
     "output_type": "stream",
     "text": [
      "[1, 2, 3, 4, 5, 6, 7, 8, 9, 10]\n",
      "[2, 4, 6, 8, 10]\n"
     ]
    }
   ],
   "source": [
    "#Filter out all even numbers from a list.\n",
    "mylist=[]\n",
    "mylist1 =[]\n",
    "for i in range(1,11):\n",
    "    mylist.append(i)\n",
    "print(mylist)\n",
    "\n",
    "for i in range(1,11):\n",
    "    if i%2==0:\n",
    "        mylist1.append(i)\n",
    "print(mylist1)\n",
    "\n"
   ]
  },
  {
   "cell_type": "code",
   "execution_count": 54,
   "id": "2298d58d",
   "metadata": {},
   "outputs": [
    {
     "data": {
      "text/plain": [
       "[1, 2, 3, 4, 5]"
      ]
     },
     "execution_count": 54,
     "metadata": {},
     "output_type": "execute_result"
    }
   ],
   "source": [
    "#Convert a list of strings to a list of integers.\n",
    "mylist = [ '1','2','3','4','5']\n",
    "[int(x) for x in mylist]\n"
   ]
  },
  {
   "cell_type": "code",
   "execution_count": 60,
   "id": "25477d23",
   "metadata": {},
   "outputs": [
    {
     "data": {
      "text/plain": [
       "['1', '2', '3', '4', '5']"
      ]
     },
     "execution_count": 60,
     "metadata": {},
     "output_type": "execute_result"
    }
   ],
   "source": [
    "#Convert a list of integers to a list of strings.\n",
    "mylist = [1,2,3,4,5]\n",
    "type(mylist)\n",
    "[str(x) for x in mylist]"
   ]
  },
  {
   "cell_type": "code",
   "execution_count": 65,
   "id": "3308ad59",
   "metadata": {},
   "outputs": [
    {
     "name": "stdout",
     "output_type": "stream",
     "text": [
      "[1, 2, 3, 4, 5, 6, 7]\n"
     ]
    }
   ],
   "source": [
    "#Flatten a nested list.\n",
    "def flat_list(my_list):\n",
    "    my_list = [[1], [2, 3], [4, 5, 6, 7]]\n",
    "    flat_mylist = [x for sublist in my_list for x in sublist]\n",
    "print(flat_mylist)"
   ]
  },
  {
   "cell_type": "code",
   "execution_count": 69,
   "id": "322ab7a7",
   "metadata": {},
   "outputs": [
    {
     "name": "stdout",
     "output_type": "stream",
     "text": [
      "1 2 3 5 8 13 21 34 55 89 \n"
     ]
    }
   ],
   "source": [
    "#Create a list of the first 10 Fibonacci numbers.\n",
    "a = 0\n",
    "b = 1\n",
    "n = 10\n",
    "next_number = b\n",
    "count = 1\n",
    " \n",
    "while count <= n:\n",
    "    print(next_number, end=\" \")\n",
    "    count += 1\n",
    "    a, b = b, next_number\n",
    "    next_number = a + b\n",
    "print()\n",
    "    "
   ]
  },
  {
   "cell_type": "code",
   "execution_count": 77,
   "id": "cc836a31",
   "metadata": {},
   "outputs": [
    {
     "name": "stdout",
     "output_type": "stream",
     "text": [
      "['Apple', 'Banana', 'Grapes', 'Guava', 'Kiwi', 'Mangoes', 'Pears', 'Sitaphal']\n"
     ]
    }
   ],
   "source": [
    "#Check if a list is sorted.\n",
    "mylist = ['Mangoes','Sitaphal','Apple','Banana','Pears','Grapes','Guava','Kiwi']\n",
    "mylist.sort()\n",
    "print(mylist)"
   ]
  },
  {
   "cell_type": "code",
   "execution_count": 30,
   "id": "51200bca",
   "metadata": {},
   "outputs": [
    {
     "name": "stdout",
     "output_type": "stream",
     "text": [
      "Original List Items Before Left Rotating\n",
      "[5, 10, 15, 20, 25, 30, 35, 40, 45, 50]\n",
      "\n",
      "Final List Items After Left Rotating\n",
      "[20, 25, 30, 35, 40, 45, 50, 5, 10, 15]\n"
     ]
    }
   ],
   "source": [
    "#Rotate a list to the left by `n` positions.\n",
    "\n",
    "leftList = [5, 10, 15, 20, 25, 30, 35, 40, 45, 50]\n",
    "\n",
    "leftRotate = 3\n",
    "\n",
    "print('Original List Items Before Left Rotating')\n",
    "print(leftList)\n",
    "\n",
    "list2 = leftList[leftRotate:] + leftList[:leftRotate]\n",
    "\n",
    "print('\\nFinal List Items After Left Rotating')\n",
    "print(list2)\n"
   ]
  },
  {
   "cell_type": "code",
   "execution_count": null,
   "id": "ef6ccd41",
   "metadata": {},
   "outputs": [],
   "source": []
  },
  {
   "cell_type": "code",
   "execution_count": 9,
   "id": "ba86605f",
   "metadata": {},
   "outputs": [
    {
     "name": "stdout",
     "output_type": "stream",
     "text": [
      "[4, 5, 6, 1, 2, 3]\n"
     ]
    }
   ],
   "source": [
    "#Rotate a list to the right by `n` positions.\n",
    "n = 3\n",
    " \n",
    "list_1 = [1, 2, 3, 4, 5, 6]\n",
    "list_1 = (list_1[len(list_1) - n:len(list_1)]\n",
    "                 + list_1[0:len(list_1) - n])\n",
    "print(list_1)"
   ]
  },
  {
   "cell_type": "code",
   "execution_count": 18,
   "id": "1cca491e",
   "metadata": {},
   "outputs": [
    {
     "name": "stdout",
     "output_type": "stream",
     "text": [
      "1\n",
      "2\n",
      "3\n",
      "5\n",
      "7\n",
      "11\n",
      "13\n",
      "17\n",
      "19\n",
      "23\n",
      "29\n",
      "31\n",
      "37\n",
      "41\n",
      "43\n",
      "47\n"
     ]
    }
   ],
   "source": [
    "for num in range(1,51):\n",
    "    if all(num%i!=0 for i in range(2,num)):\n",
    "        print (num)"
   ]
  },
  {
   "cell_type": "code",
   "execution_count": 23,
   "id": "96bdf122",
   "metadata": {},
   "outputs": [
    {
     "name": "stdout",
     "output_type": "stream",
     "text": [
      "enter the index you want to slice your list into -: 4\n",
      "The primary list is:  [10, 20, 30, 40, 50, 60]\n",
      "First half of list is  [10, 20, 30, 40]\n",
      "Second half of list is  [50, 60]\n"
     ]
    }
   ],
   "source": [
    "#Split a list into chunks of size `n`.\n",
    "\n",
    "list_1 = [10,20,30,40,50,60]\n",
    "index = int(input('enter the index you want to slice your list into -: '))\n",
    "first_half = list_1 [:index]\n",
    "second_half = list_1 [index:]\n",
    "print('The primary list is: ',list_1)\n",
    "print(\"First slice of list is \",first_half)\n",
    "print(\"Second slice of list is \",second_half)"
   ]
  },
  {
   "cell_type": "code",
   "execution_count": 6,
   "id": "78086578",
   "metadata": {},
   "outputs": [
    {
     "name": "stdout",
     "output_type": "stream",
     "text": [
      "list in ascending order is -  [2, 4, 7, 34, 56, 456, 2345, 5432, 6543, 6789876543, 456789876543]\n",
      "maximum element is 456789876543\n",
      "[2, 4, 7, 34, 56, 456, 2345, 5432, 6543, 6789876543]\n",
      "the second largest number in the list is, 6789876543\n"
     ]
    }
   ],
   "source": [
    "#Find the second largest number in a list.\n",
    "my_list = [4,456,6543,56,7,2,34,6789876543,456789876543,2345,5432]\n",
    "my_list.sort()\n",
    "print('list in ascending order is - ',my_list)\n",
    "max_int = max(my_list)\n",
    "print('maximum element is' , max_int)\n",
    "my_list.remove(max_int)\n",
    "print(my_list)\n",
    "scnd_lrgst_num = max(my_list)\n",
    "print('the second largest number in the list is,',scnd_lrgst_num)"
   ]
  },
  {
   "cell_type": "code",
   "execution_count": 9,
   "id": "6e3a527f",
   "metadata": {},
   "outputs": [
    {
     "name": "stdout",
     "output_type": "stream",
     "text": [
      "[100, 400, 900, 1600, 2500, 3600]\n"
     ]
    }
   ],
   "source": [
    "#Replace every element in a list with its square.\n",
    "list_1 = [10, 20, 30, 40, 50, 60]\n",
    "\n",
    "new = []\n",
    "for number in list_1:\n",
    "    new.append(number**2)\n",
    "print(new)\n",
    "    "
   ]
  },
  {
   "cell_type": "code",
   "execution_count": 11,
   "id": "e3cf6d98",
   "metadata": {},
   "outputs": [
    {
     "name": "stdout",
     "output_type": "stream",
     "text": [
      "{0: 10, 1: 20, 2: 30, 3: 40, 4: 50, 5: 60}\n"
     ]
    }
   ],
   "source": [
    "#Convert a list to a dictionary where list elements become keys and their\n",
    "#indices become values.\n",
    "list_1 = [10, 20, 30, 40, 50, 60]\n",
    "d1=dict(enumerate(list_1))\n",
    "print(d1)"
   ]
  },
  {
   "cell_type": "code",
   "execution_count": 18,
   "id": "b5ffcc6f",
   "metadata": {},
   "outputs": [
    {
     "name": "stdout",
     "output_type": "stream",
     "text": [
      "[40, 50, 60, 10, 20, 30]\n"
     ]
    }
   ],
   "source": [
    "#Shuffle the elements of a list randomly.\n",
    "import random\n",
    "list_1 = [10, 20, 30, 40, 50, 60]\n",
    "list_2 = random.shuffle(list_1 )\n",
    "print(list_1)\n"
   ]
  },
  {
   "cell_type": "code",
   "execution_count": 34,
   "id": "645e4d24",
   "metadata": {},
   "outputs": [
    {
     "name": "stdout",
     "output_type": "stream",
     "text": [
      "Factorial of 1 is 1\n",
      "Factorial of 2 is 2\n",
      "Factorial of 3 is 12\n",
      "Factorial of 4 is 288\n",
      "Factorial of 5 is 34560\n"
     ]
    }
   ],
   "source": [
    "#Create a list of the first 10 factorial numbers.\n",
    "input_set = {1, 2, 3, 4, 5}\n",
    "fact = 1\n",
    "for item in input_set:\n",
    "    for number in range(1,item+1):\n",
    "        fact = fact * number\n",
    "    print (\"Factorial of\", item, \"is\", fact)"
   ]
  },
  {
   "cell_type": "code",
   "execution_count": 37,
   "id": "c06571c8",
   "metadata": {},
   "outputs": [
    {
     "name": "stdout",
     "output_type": "stream",
     "text": [
      "No common elements in two lists\n"
     ]
    }
   ],
   "source": [
    "#Check if two lists have at least one element in common.\n",
    "list_1 = [10, 20, 30, 40, 50, 60]\n",
    "my_list = [4,456,6543,56,7,2,34,6789876543,456789876543,2345,5432]\n",
    "for i in list_1:\n",
    "    for j in my_list:\n",
    "        if (i==j):\n",
    "            print('two lists have at least one element in common')\n",
    "else:\n",
    "    print('No common elements in two lists')"
   ]
  },
  {
   "cell_type": "code",
   "execution_count": 44,
   "id": "f86a05a7",
   "metadata": {},
   "outputs": [
    {
     "name": "stdout",
     "output_type": "stream",
     "text": [
      "None\n"
     ]
    }
   ],
   "source": [
    "#Remove all elements from a list.\n",
    "my_list = [4,456,6543,56,7,2,34,6789876543,456789876543,2345,5432]\n",
    "my_list1 = mylist.clear()\n",
    "print(my_list1)\n"
   ]
  },
  {
   "cell_type": "code",
   "execution_count": 51,
   "id": "81976185",
   "metadata": {},
   "outputs": [
    {
     "name": "stdout",
     "output_type": "stream",
     "text": [
      "[0, 456, 6543, 56, 7, 0, 34, 6789876543, 0, 2345, 0]\n"
     ]
    }
   ],
   "source": [
    "#Replace negative numbers in a list with 0.\n",
    "my_list = [-4,456,6543,56,7,-2,34,6789876543,-456789876543,2345,5-432]\n",
    "for i in my_list:\n",
    "    if i>=0:\n",
    "        continue;\n",
    "    else:\n",
    "        new_list = [0 if i <= 0 else i for i in my_list]\n",
    "print(new_list)"
   ]
  },
  {
   "cell_type": "code",
   "execution_count": 56,
   "id": "8e0e116f",
   "metadata": {},
   "outputs": [
    {
     "name": "stdout",
     "output_type": "stream",
     "text": [
      "['apple', 'banana', 'pineapple', 'pears']\n"
     ]
    }
   ],
   "source": [
    "#Convert a string into a list of words.\n",
    "my_string = 'apple','banana','pineapple','pears'\n",
    "print(list(my_string))"
   ]
  },
  {
   "cell_type": "code",
   "execution_count": 61,
   "id": "079984ef",
   "metadata": {},
   "outputs": [
    {
     "name": "stdout",
     "output_type": "stream",
     "text": [
      "this is my string\n",
      "this is my string\n",
      "this is my string\n",
      "this is my string\n"
     ]
    }
   ],
   "source": [
    "#Convert a string into a list of words.\n",
    "my_string = \"this is my string\"\n",
    "for i in my_string.split():\n",
    "    print(my_string)"
   ]
  },
  {
   "cell_type": "code",
   "execution_count": 65,
   "id": "b8d16904",
   "metadata": {},
   "outputs": [
    {
     "name": "stdout",
     "output_type": "stream",
     "text": [
      "<class 'str'>\n",
      "<class 'list'>\n",
      "['Hello world', 'I am learning Python!']\n"
     ]
    }
   ],
   "source": [
    "#Convert a string into a list of words.\n",
    "phrase = \"Hello world,I am learning Python!\"\n",
    "phrase_to_list = phrase.split(\",\")\n",
    "print(phrase_to_list)"
   ]
  },
  {
   "cell_type": "code",
   "execution_count": 73,
   "id": "83e2ebbd",
   "metadata": {},
   "outputs": [
    {
     "name": "stdout",
     "output_type": "stream",
     "text": [
      "Hello world, i am learning Python!\n"
     ]
    }
   ],
   "source": [
    "#Convert a list of words into a string.\n",
    "mylist = ['Hello world, i am learning Python!']\n",
    "str1 = \"\"\n",
    "print(str1.join(mylist))\n"
   ]
  },
  {
   "cell_type": "code",
   "execution_count": 75,
   "id": "90318cbb",
   "metadata": {},
   "outputs": [
    {
     "name": "stdout",
     "output_type": "stream",
     "text": [
      "enter the number of powers of 2 -:2\n",
      "4\n"
     ]
    }
   ],
   "source": [
    "#Create a list of the first `n` powers of 2.\n",
    "n = int(input('enter the number of powers of 2 -:'))\n",
    "mylist = 2**n\n",
    "print(mylist)\n"
   ]
  },
  {
   "cell_type": "code",
   "execution_count": 83,
   "id": "69bbcd01",
   "metadata": {},
   "outputs": [
    {
     "name": "stdout",
     "output_type": "stream",
     "text": [
      "i am so obsessed by myself and my ideology of world\n"
     ]
    }
   ],
   "source": [
    "#Find the longest string in a list of strings.\n",
    "mylist = [\"this is the longest string\",\"i think i love mangoes and jamun\",\"i am so obsessed by myself and my ideology of world\"]\n",
    "max_list = -1\n",
    "for i in mylist:\n",
    "    if len(i)>max_list:\n",
    "        my = i\n",
    "print(i)\n",
    "        \n"
   ]
  },
  {
   "cell_type": "code",
   "execution_count": 95,
   "id": "400b7ea2",
   "metadata": {},
   "outputs": [
    {
     "name": "stdout",
     "output_type": "stream",
     "text": [
      "Kiwi\n"
     ]
    }
   ],
   "source": [
    "#Find the shortest string in a list of string\n",
    "mylist = ['Mangoes','Sitaphal','Apple','Banana','Pears','Grapes','Guava','Kiwi']\n",
    "min_list = 1\n",
    "for i in mylist:\n",
    "    if len(i) < min_list:\n",
    "        my = i\n",
    "print(i)"
   ]
  },
  {
   "cell_type": "code",
   "execution_count": 96,
   "id": "2be6176a",
   "metadata": {},
   "outputs": [
    {
     "name": "stdout",
     "output_type": "stream",
     "text": [
      "1 3 6 10 15 "
     ]
    }
   ],
   "source": [
    "#Create a list of the first `n` triangular numbers.\n",
    "def triangular_series( n ):\n",
    "    j = 1\n",
    "    k = 1\n",
    "    for i in range(1, n + 1):\n",
    "        print(k, end = ' ')\n",
    "        j = j + 1 \n",
    "        k = k + j\n",
    "n = 5\n",
    "triangular_series(n)"
   ]
  },
  {
   "cell_type": "code",
   "execution_count": 97,
   "id": "ddd946e2",
   "metadata": {},
   "outputs": [
    {
     "data": {
      "text/plain": [
       "True"
      ]
     },
     "execution_count": 97,
     "metadata": {},
     "output_type": "execute_result"
    }
   ],
   "source": [
    "#Check if a list contains another list as a subsequence.\n",
    "mylist = [1,2,3,4,5,6,[3,2,1]]\n",
    "herlist = [3,2,1]\n",
    "herlist in mylist"
   ]
  },
  {
   "cell_type": "code",
   "execution_count": 106,
   "id": "033342d5",
   "metadata": {},
   "outputs": [
    {
     "name": "stdout",
     "output_type": "stream",
     "text": [
      "['Sitaphal', 'Mangoes', 'Apple', 'Banana', 'Pears', 'Grapes', 'Guava', 'Kiwi']\n"
     ]
    }
   ],
   "source": [
    "#Swap two elements in a list by their indices.\n",
    "mylist = ['Mangoes','Sitaphal','Apple','Banana','Pears','Grapes','Guava','Kiwi']\n",
    "mylist[0]= 'Sitaphal'\n",
    "mylist[1]='Mangoes'\n",
    "print(mylist)\n"
   ]
  },
  {
   "cell_type": "markdown",
   "id": "d62230da",
   "metadata": {},
   "source": [
    "# 3.Tuple"
   ]
  },
  {
   "cell_type": "code",
   "execution_count": 109,
   "id": "0c50b32a",
   "metadata": {},
   "outputs": [
    {
     "data": {
      "text/plain": [
       "(1, 2, 3, 4, 5)"
      ]
     },
     "execution_count": 109,
     "metadata": {},
     "output_type": "execute_result"
    }
   ],
   "source": [
    "#1.Create a tuple with integers from 1 to 5.\n",
    "tuple(range(1,6))"
   ]
  },
  {
   "cell_type": "code",
   "execution_count": 110,
   "id": "8e0b6124",
   "metadata": {},
   "outputs": [
    {
     "data": {
      "text/plain": [
       "3"
      ]
     },
     "execution_count": 110,
     "metadata": {},
     "output_type": "execute_result"
    }
   ],
   "source": [
    "#Access the third element of a tuple.\n",
    "mytuple = (1, 2, 3, 4, 5)\n",
    "mytuple[2]"
   ]
  },
  {
   "cell_type": "code",
   "execution_count": 112,
   "id": "1f0d52de",
   "metadata": {},
   "outputs": [
    {
     "name": "stdout",
     "output_type": "stream",
     "text": [
      "6\n"
     ]
    }
   ],
   "source": [
    "#Find the length of a tuple without using the `len()` function.\n",
    "mytuple = (1, 2, 3, 4, 5, 6)\n",
    "mytuple=sum(1 for x in mytuple)\n",
    "print(mytuple)"
   ]
  },
  {
   "cell_type": "code",
   "execution_count": 119,
   "id": "20462079",
   "metadata": {},
   "outputs": [
    {
     "name": "stdout",
     "output_type": "stream",
     "text": [
      "3\n"
     ]
    }
   ],
   "source": [
    "#Count the occurrences of an element in a tuple.\n",
    "mytuple = ('Mangoes','kiwi','kiwi','Sitaphal','Apple','Banana','Pears','Grapes','Guava','kiwi') \n",
    "count = 0\n",
    "for i in mytuple:\n",
    "    if (i=='kiwi'):\n",
    "        count = count + 1;\n",
    "print(count)"
   ]
  },
  {
   "cell_type": "code",
   "execution_count": 138,
   "id": "54064ce4",
   "metadata": {},
   "outputs": [
    {
     "name": "stdout",
     "output_type": "stream",
     "text": [
      "Enter the element, whose index of the first occurrence of an element you wish to find4\n",
      "6\n",
      "6\n"
     ]
    }
   ],
   "source": [
    "#Find the index of the first occurrence of an element in a tuple.\n",
    "mytuple = (1,2,5,6,2,0,4,3,0,5)\n",
    "target_tuple = int(input('Enter the element, whose index of the first occurrence of an element you wish to find'))\n",
    "\n",
    "for i in mytuple:\n",
    "    if (i==0):\n",
    "        print(mytuple.index(target_tuple ))"
   ]
  },
  {
   "cell_type": "code",
   "execution_count": 146,
   "id": "8cbf7e6d",
   "metadata": {},
   "outputs": [
    {
     "name": "stdout",
     "output_type": "stream",
     "text": [
      "enter the element you want to check is - 5\n",
      "5 element exists in the tuple\n"
     ]
    }
   ],
   "source": [
    "#Check if an element exists in a tuple.\n",
    "mytuple = (1,2,5,6,2,0,4,3,0,5)\n",
    "check_ele = int(input('enter the element you want to check is - '))\n",
    "count = 0\n",
    "for i in mytuple:\n",
    "    if(i == check_ele):\n",
    "        count+=1\n",
    "        break;\n",
    "if(count==1):\n",
    "    print(check_ele,'element exists in the tuple')\n",
    "else:\n",
    "    print('element doesnot exists in the tuple') \n"
   ]
  },
  {
   "cell_type": "code",
   "execution_count": 147,
   "id": "28f0b451",
   "metadata": {},
   "outputs": [
    {
     "data": {
      "text/plain": [
       "(0, 1, 2, 3, 4, 5, 6, 7, 8, 9, 10)"
      ]
     },
     "execution_count": 147,
     "metadata": {},
     "output_type": "execute_result"
    }
   ],
   "source": [
    "#Convert a list to a tuple.\n",
    "tuple(list(range(0,11)))"
   ]
  },
  {
   "cell_type": "code",
   "execution_count": 148,
   "id": "628ba18b",
   "metadata": {},
   "outputs": [
    {
     "data": {
      "text/plain": [
       "[0, 1, 2, 3, 4, 5, 6, 7, 8, 9, 10]"
      ]
     },
     "execution_count": 148,
     "metadata": {},
     "output_type": "execute_result"
    }
   ],
   "source": [
    "#Convert a tuple to a list.\n",
    "list(tuple(range(0,11)))\n"
   ]
  },
  {
   "cell_type": "code",
   "execution_count": 9,
   "id": "e95cf4a0",
   "metadata": {},
   "outputs": [
    {
     "name": "stdout",
     "output_type": "stream",
     "text": [
      "Mangoes\n",
      "500\n"
     ]
    }
   ],
   "source": [
    "#Unpack the elements of a tuple into variables.\n",
    "mytuple = ('Mangoes',500) \n",
    "(fruits,grams)= mytuple\n",
    "print(fruits)\n",
    "print(grams)"
   ]
  },
  {
   "cell_type": "code",
   "execution_count": 7,
   "id": "f4694c70",
   "metadata": {},
   "outputs": [
    {
     "name": "stdout",
     "output_type": "stream",
     "text": [
      "(1, 2, 3, 4, 5, 6, 7, 8, 9, 10)\n",
      "2,4,6,8,10,"
     ]
    }
   ],
   "source": [
    "#Create a tuple of even numbers from 1 to 10.\n",
    "mytuple = tuple (range(1,11))\n",
    "print(mytuple)  \n",
    "for i in mytuple:\n",
    "    if (i%2==0):\n",
    "        print(i, end=\",\")\n"
   ]
  },
  {
   "cell_type": "code",
   "execution_count": 8,
   "id": "c6946a4e",
   "metadata": {},
   "outputs": [
    {
     "name": "stdout",
     "output_type": "stream",
     "text": [
      "(1, 2, 3, 4, 5, 6, 7, 8, 9, 10)\n",
      "1,3,5,7,9,"
     ]
    }
   ],
   "source": [
    "#11.Create a tuple of odd numbers from 1 to 10.\n",
    "mytuple = tuple (range(1,11))\n",
    "print(mytuple)  \n",
    "for i in mytuple:\n",
    "    if (i%2!=0):\n",
    "        print(i, end=\",\")"
   ]
  },
  {
   "cell_type": "code",
   "execution_count": 9,
   "id": "4b0c1b21",
   "metadata": {},
   "outputs": [
    {
     "name": "stdout",
     "output_type": "stream",
     "text": [
      "(1, 2, 3, 4, 5, 2, 5, 5, 3, 54, 4)\n"
     ]
    }
   ],
   "source": [
    "#Concatenate two tuples.\n",
    "mytuple = (1,2,3,4,5)\n",
    "yourtuple = (2,5,5,3,54,4)\n",
    "ourtuple = mytuple + yourtuple\n",
    "print(ourtuple)"
   ]
  },
  {
   "cell_type": "code",
   "execution_count": 25,
   "id": "8f0c9679",
   "metadata": {},
   "outputs": [
    {
     "name": "stdout",
     "output_type": "stream",
     "text": [
      "(1, 2, 3, 4, 5, 1, 2, 3, 4, 5, 1, 2, 3, 4, 5)"
     ]
    }
   ],
   "source": [
    "#Repeat a tuple three times.\n",
    "mytuple = (1,2,3,4,5)*3\n",
    "print(mytuple,end='')"
   ]
  },
  {
   "cell_type": "code",
   "execution_count": 27,
   "id": "088897d4",
   "metadata": {},
   "outputs": [
    {
     "name": "stdout",
     "output_type": "stream",
     "text": [
      "tuple is non-empty\n"
     ]
    }
   ],
   "source": [
    "#Check if a tuple is empty.\n",
    "mytuple = (1, 2, 3, 4, 5, 1, 2, 3, 4, 5, 1, 2, 3, 4, 5)\n",
    "if len(mytuple)==0:\n",
    "    print('tuple is empty')\n",
    "else:\n",
    "    print('tuple is non-empty')"
   ]
  },
  {
   "cell_type": "code",
   "execution_count": 30,
   "id": "6e7c3850",
   "metadata": {},
   "outputs": [
    {
     "name": "stdout",
     "output_type": "stream",
     "text": [
      "((1, 2, 3, 45, 4), (2, 3, 5, 6, 45, 4))\n"
     ]
    }
   ],
   "source": [
    "#Create a nested tuple.\n",
    "mytuple1 = (1,2,3,45,4),\n",
    "mytuple2 = (2,3,5,6,45,4),\n",
    "new_tuple = mytuple1+mytuple2 \n",
    "print(new_tuple)"
   ]
  },
  {
   "cell_type": "code",
   "execution_count": 51,
   "id": "9f721153",
   "metadata": {},
   "outputs": [
    {
     "data": {
      "text/plain": [
       "1"
      ]
     },
     "execution_count": 51,
     "metadata": {},
     "output_type": "execute_result"
    }
   ],
   "source": [
    "#Access the first element of a nested tuple.\n",
    "tupple = ((1, 2, 3, 45, 4), (2, 3, 5, 6, 45, 4))\n",
    "tupple[0][0]"
   ]
  },
  {
   "cell_type": "code",
   "execution_count": 52,
   "id": "e012dd2f",
   "metadata": {},
   "outputs": [
    {
     "data": {
      "text/plain": [
       "(0,)"
      ]
     },
     "execution_count": 52,
     "metadata": {},
     "output_type": "execute_result"
    }
   ],
   "source": [
    "#Create a tuple with a single element.\n",
    "tuple(range(0,1))"
   ]
  },
  {
   "cell_type": "code",
   "execution_count": 54,
   "id": "2b05a1aa",
   "metadata": {},
   "outputs": [
    {
     "data": {
      "text/plain": [
       "True"
      ]
     },
     "execution_count": 54,
     "metadata": {},
     "output_type": "execute_result"
    }
   ],
   "source": [
    "#Compare two tuples.\n",
    "a = (1, 2, 3)\n",
    "b = (1, 2, 5)\n",
    "a < b\n"
   ]
  },
  {
   "cell_type": "code",
   "execution_count": 64,
   "id": "bd4d5d82",
   "metadata": {},
   "outputs": [
    {
     "name": "stdout",
     "output_type": "stream",
     "text": [
      "(1, 2, 3, 45, 4)\n",
      "after deleting\n"
     ]
    },
    {
     "ename": "NameError",
     "evalue": "name 'tupple' is not defined",
     "output_type": "error",
     "traceback": [
      "\u001b[0;31m---------------------------------------------------------------------------\u001b[0m",
      "\u001b[0;31mNameError\u001b[0m                                 Traceback (most recent call last)",
      "\u001b[0;32m<ipython-input-64-96ce827f118a>\u001b[0m in \u001b[0;36m<module>\u001b[0;34m\u001b[0m\n\u001b[1;32m      4\u001b[0m \u001b[0;32mdel\u001b[0m\u001b[0;34m(\u001b[0m\u001b[0mtupple\u001b[0m\u001b[0;34m)\u001b[0m\u001b[0;34m\u001b[0m\u001b[0;34m\u001b[0m\u001b[0m\n\u001b[1;32m      5\u001b[0m \u001b[0mprint\u001b[0m\u001b[0;34m(\u001b[0m\u001b[0;34m\"after deleting\"\u001b[0m\u001b[0;34m)\u001b[0m\u001b[0;34m\u001b[0m\u001b[0;34m\u001b[0m\u001b[0m\n\u001b[0;32m----> 6\u001b[0;31m \u001b[0mprint\u001b[0m\u001b[0;34m(\u001b[0m\u001b[0mtupple\u001b[0m\u001b[0;34m)\u001b[0m\u001b[0;34m\u001b[0m\u001b[0;34m\u001b[0m\u001b[0m\n\u001b[0m",
      "\u001b[0;31mNameError\u001b[0m: name 'tupple' is not defined"
     ]
    }
   ],
   "source": [
    "#Delete a tuple.\n",
    "tupple = (1, 2, 3, 45, 4)\n",
    "print(tupple)\n",
    "del(tupple)\n",
    "print(\"after deleting\")\n",
    "print(tupple)\n"
   ]
  },
  {
   "cell_type": "code",
   "execution_count": 65,
   "id": "3f8f64d1",
   "metadata": {},
   "outputs": [
    {
     "data": {
      "text/plain": [
       "(2, 3)"
      ]
     },
     "execution_count": 65,
     "metadata": {},
     "output_type": "execute_result"
    }
   ],
   "source": [
    "#Slice a tuple.\n",
    "tupple=(1, 2, 3, 45, 4)\n",
    "tupple[1:3]"
   ]
  },
  {
   "cell_type": "code",
   "execution_count": 66,
   "id": "ea1bf97f",
   "metadata": {},
   "outputs": [
    {
     "name": "stdout",
     "output_type": "stream",
     "text": [
      "45\n"
     ]
    }
   ],
   "source": [
    "#Find the maximum value in a tuple.\n",
    "tupple=(1, 2, 3, 45, 4)\n",
    "print(max(tupple))"
   ]
  },
  {
   "cell_type": "code",
   "execution_count": 67,
   "id": "6c1a1aba",
   "metadata": {},
   "outputs": [
    {
     "name": "stdout",
     "output_type": "stream",
     "text": [
      "1\n"
     ]
    }
   ],
   "source": [
    "#Find the minimum value in a tuple.\n",
    "tupple=(1, 2, 3, 45, 4)\n",
    "print(min(tupple))"
   ]
  },
  {
   "cell_type": "code",
   "execution_count": 10,
   "id": "a288481e",
   "metadata": {},
   "outputs": [],
   "source": [
    "#Convert a string to a tuple of characters.\n",
    "mytuple = \"a b c\"\n",
    "mytuple = tuple(mytuple)"
   ]
  },
  {
   "cell_type": "code",
   "execution_count": 11,
   "id": "b0eddeee",
   "metadata": {},
   "outputs": [
    {
     "name": "stdout",
     "output_type": "stream",
     "text": [
      "('a', ' ', 'b', ' ', 'c')\n"
     ]
    }
   ],
   "source": [
    "print(mytuple)"
   ]
  },
  {
   "cell_type": "code",
   "execution_count": 12,
   "id": "d506cef4",
   "metadata": {},
   "outputs": [],
   "source": [
    "#Convert a tuple of characters to a string.\n",
    "mystr = ('a', ',', 'b', ',', 'c')\n",
    "mystr = str(mystr)"
   ]
  },
  {
   "cell_type": "code",
   "execution_count": 14,
   "id": "74d3e845",
   "metadata": {},
   "outputs": [
    {
     "name": "stdout",
     "output_type": "stream",
     "text": [
      "('a', ',', 'b', ',', 'c')\n"
     ]
    },
    {
     "data": {
      "text/plain": [
       "str"
      ]
     },
     "execution_count": 14,
     "metadata": {},
     "output_type": "execute_result"
    }
   ],
   "source": [
    "print(mystr)\n",
    "type(mystr)"
   ]
  },
  {
   "cell_type": "code",
   "execution_count": 16,
   "id": "4fed0400",
   "metadata": {},
   "outputs": [
    {
     "name": "stdout",
     "output_type": "stream",
     "text": [
      "<class 'list'>\n"
     ]
    }
   ],
   "source": [
    "#Create a tuple from multiple data types.\n",
    "mytuple = ['ani',300,'mangoes']\n",
    "print(type(mytuple))\n",
    "mytuple=tuple(mytuple)\n"
   ]
  },
  {
   "cell_type": "code",
   "execution_count": 17,
   "id": "41856c89",
   "metadata": {},
   "outputs": [
    {
     "name": "stdout",
     "output_type": "stream",
     "text": [
      "<class 'tuple'>\n"
     ]
    }
   ],
   "source": [
    "print(type(mytuple))"
   ]
  },
  {
   "cell_type": "code",
   "execution_count": 28,
   "id": "132244d9",
   "metadata": {},
   "outputs": [
    {
     "name": "stdout",
     "output_type": "stream",
     "text": [
      "two tuples are not identical\n"
     ]
    }
   ],
   "source": [
    "#Check if two tuples are identical.\n",
    "tuple1 = (1,2,3,4)\n",
    "tuple2 = (5,6,7,8)\n",
    "type(tuple1)\n",
    "for i in tuple1:\n",
    "    for j in tuple2:\n",
    "        if(i==j):\n",
    "            print('two tuples identical')\n",
    "else:\n",
    "    print('two tuples are not identical')\n"
   ]
  },
  {
   "cell_type": "code",
   "execution_count": 32,
   "id": "9d73babd",
   "metadata": {},
   "outputs": [
    {
     "name": "stdout",
     "output_type": "stream",
     "text": [
      "[1, 2, 3, 4, 45]\n"
     ]
    }
   ],
   "source": [
    "#Sort the elements of a tuple.\n",
    "tupple=(1, 2, 3, 45, 4)\n",
    "sorted_tuple = sorted(tupple)\n",
    "print(sorted_tuple)"
   ]
  },
  {
   "cell_type": "code",
   "execution_count": 39,
   "id": "d12eb703",
   "metadata": {},
   "outputs": [
    {
     "name": "stdout",
     "output_type": "stream",
     "text": [
      "<class 'tuple'>\n",
      "(1, 2, 3, 45, 4)\n",
      "<class 'str'>\n"
     ]
    }
   ],
   "source": [
    "#Convert a tuple of integers to a tuple of strings.\n",
    "mytuple = (1, 2, 3, 45, 4)\n",
    "print(type(mytuple))\n",
    "my_str = \"\"\n",
    "my_str=str(mytuple)\n",
    "print(my_str)\n",
    "print(type(my_str))"
   ]
  },
  {
   "cell_type": "code",
   "execution_count": 48,
   "id": "ccef94b0",
   "metadata": {},
   "outputs": [
    {
     "name": "stdout",
     "output_type": "stream",
     "text": [
      "(7, 8, 9)\n"
     ]
    }
   ],
   "source": [
    "#Convert a tuple of strings to a tuple of integers.\n",
    "my_str = \"(7, 8, 9)\"\n",
    "intTuple = ()\n",
    "#res=my_str.replace('\"\"',\",\")\n",
    "intTuple = tuple(int(ele) for ele in my_str.replace('(', '').replace(')', '').replace('...', '').split(', '))\n",
    "print(intTuple)\n"
   ]
  },
  {
   "cell_type": "code",
   "execution_count": 53,
   "id": "6ef7a7c4",
   "metadata": {},
   "outputs": [
    {
     "name": "stdout",
     "output_type": "stream",
     "text": [
      "(1, 2432, 23, 4, 4, 4, 3, 3, 3, 4, 32, 8, 434, 3, 3)\n"
     ]
    }
   ],
   "source": [
    "#Merge two tuples.\n",
    "tuple1=(1,2432,23,4,4,4,3,3)\n",
    "tuple2=(3,4,32,8,434,3,3)\n",
    "merge_tup=()\n",
    "merge_tup = tuple1+tuple2\n",
    "print(merge_tup)"
   ]
  },
  {
   "cell_type": "code",
   "execution_count": 72,
   "id": "33cd8962",
   "metadata": {},
   "outputs": [],
   "source": [
    "#Flatten a nested tuple.\n",
    "\n"
   ]
  },
  {
   "cell_type": "code",
   "execution_count": 5,
   "id": "b58f1d80",
   "metadata": {},
   "outputs": [
    {
     "name": "stdout",
     "output_type": "stream",
     "text": [
      "first 5 prime numbers are\n",
      "(2, 3, 5, 7, 11)\n"
     ]
    }
   ],
   "source": [
    "#Create a tuple of the first 5 prime numbers.\n",
    "\n",
    "lower = 2\n",
    "upper = 12\n",
    "lst=[]\n",
    "print(\"first 5 prime numbers are\")\n",
    "for num in range(lower, upper + 1):\n",
    "    for i in range(2, num):\n",
    "        if (num % i) == 0:\n",
    "            break\n",
    "    else: \n",
    "        lst.append(num)\n",
    "\n",
    "mytuple=tuple(lst)\n",
    "print(mytuple)\n",
    "\n"
   ]
  },
  {
   "cell_type": "code",
   "execution_count": 7,
   "id": "1aa1a223",
   "metadata": {},
   "outputs": [
    {
     "name": "stdout",
     "output_type": "stream",
     "text": [
      "the string is a palindrome\n"
     ]
    }
   ],
   "source": [
    "#Check if a tuple is a palindrome.\n",
    "tupple=(1,2,2,1)\n",
    "rev_tupple=tupple[::-1]\n",
    "if (tupple == rev_tupple) :\n",
    "    print('the string is a palindrome')\n",
    "else:\n",
    "    print('the string is not a palindrome')"
   ]
  },
  {
   "cell_type": "code",
   "execution_count": 8,
   "id": "5a458f4d",
   "metadata": {},
   "outputs": [
    {
     "data": {
      "text/plain": [
       "(1, 2, 3, 4, 5)"
      ]
     },
     "execution_count": 8,
     "metadata": {},
     "output_type": "execute_result"
    }
   ],
   "source": [
    "#Create a tuple of squares of numbers from 1 to 5.\n",
    "tuple(range(1,6))"
   ]
  },
  {
   "cell_type": "code",
   "execution_count": 14,
   "id": "0e234b45",
   "metadata": {},
   "outputs": [
    {
     "name": "stdout",
     "output_type": "stream",
     "text": [
      "2432,4,4,4,4,32,8,434,"
     ]
    }
   ],
   "source": [
    "#Filter out all even numbers from a tuple.\n",
    "tupple=(1, 2432, 23, 4, 4, 4, 3, 3, 3, 4, 32, 8, 434, 3, 3)\n",
    "for i in tupple:\n",
    "    if i%2==0:\n",
    "        print(i,end=\",\") "
   ]
  },
  {
   "cell_type": "code",
   "execution_count": 255,
   "id": "05b1043e",
   "metadata": {},
   "outputs": [
    {
     "name": "stdout",
     "output_type": "stream",
     "text": [
      "2\n",
      "4\n",
      "8\n",
      "16\n",
      "32\n",
      "64\n",
      "128\n",
      "256\n",
      "512\n"
     ]
    }
   ],
   "source": [
    "#Multiply all elements in a tuple by 2.\n",
    "tupple=(1, 2432, 23, 4, 32, 8, 434, 3, 3)\n",
    "result=1\n",
    "for i in tupple:\n",
    "    result=result*2\n",
    "    print(result)"
   ]
  },
  {
   "cell_type": "code",
   "execution_count": 33,
   "id": "168125f2",
   "metadata": {},
   "outputs": [
    {
     "name": "stdout",
     "output_type": "stream",
     "text": [
      "(2, 4864, 46, 8, 64, 16, 868, 6, 6)\n"
     ]
    }
   ],
   "source": [
    "tupple=(1, 2432, 23, 4, 32, 8, 434, 3, 3)\n",
    "ne_tup=[]\n",
    "for i in range(0,len(tupple)):\n",
    "    ne_tup.append(tupple[i]*2)\n",
    "ne_tup=tuple(ne_tup)\n",
    "print(ne_tup)"
   ]
  },
  {
   "cell_type": "code",
   "execution_count": 44,
   "id": "33f894ba",
   "metadata": {},
   "outputs": [
    {
     "name": "stdout",
     "output_type": "stream",
     "text": [
      "(61, 86, 8, 51, 90, 87, 45, 4, 73, 9)\n"
     ]
    }
   ],
   "source": [
    "#Create a tuple of random numbers.\n",
    "import random\n",
    "#n = random.randint(0,10) \n",
    "l=[]\n",
    "for i in range(0,10):\n",
    "    l.append(random.randint(0,100))\n",
    "print(tuple(l))"
   ]
  },
  {
   "cell_type": "code",
   "execution_count": 46,
   "id": "952fc5e7",
   "metadata": {},
   "outputs": [
    {
     "name": "stdout",
     "output_type": "stream",
     "text": [
      "sorted tuple is: [4, 8, 9, 45, 51, 61, 73, 86, 87, 90]\n",
      "tuple is not sorted\n"
     ]
    }
   ],
   "source": [
    "#Check if a tuple is sorted.\n",
    "tupple = (61, 86, 8, 51, 90, 87, 45, 4, 73, 9)\n",
    "sort_tup=sorted(tupple)\n",
    "print('sorted tuple is:',sort_tup)\n",
    "if (tupple==sort_tup):\n",
    "    print('the tupple is sorted')\n",
    "else:\n",
    "    print('tuple is not sorted')"
   ]
  },
  {
   "cell_type": "code",
   "execution_count": 4,
   "id": "f4b94435",
   "metadata": {},
   "outputs": [
    {
     "name": "stdout",
     "output_type": "stream",
     "text": [
      "Original List Items Before Left Rotating\n",
      "[5, 10, 15, 20, 25, 30, 35, 40, 45, 50]\n",
      "\n",
      "Final List Items After Left Rotating\n",
      "[20, 25, 30, 35, 40, 45, 50, 5, 10, 15]\n"
     ]
    }
   ],
   "source": [
    "#Rotate a tuple to the left by `n` positions.\n",
    "leftList = [5, 10, 15, 20, 25, 30, 35, 40, 45, 50]\n",
    "\n",
    "leftRotate = 3\n",
    "\n",
    "print('Original List Items Before Left Rotating')\n",
    "print(leftList)\n",
    "\n",
    "list2 = leftList[leftRotate:] + leftList[:leftRotate]\n",
    "\n",
    "print('\\nFinal List Items After Left Rotating')\n",
    "print(list2)\n"
   ]
  },
  {
   "cell_type": "code",
   "execution_count": 2,
   "id": "29e97afb",
   "metadata": {},
   "outputs": [
    {
     "name": "stdout",
     "output_type": "stream",
     "text": [
      "[4, 5, 6, 1, 2, 3]\n",
      "(4, 5, 6, 1, 2, 3)\n"
     ]
    }
   ],
   "source": [
    "#Rotate a tuple to the right by `n` positions.\n",
    "n = 3\n",
    " \n",
    "list_1 = [1, 2, 3, 4, 5, 6]\n",
    "list_1 = (list_1[len(list_1) - n:len(list_1)]\n",
    "                 + list_1[0:len(list_1) - n])\n",
    "print(list_1)\n",
    "a=()\n",
    "a=tuple(list_1)\n",
    "print(a)"
   ]
  },
  {
   "cell_type": "code",
   "execution_count": 23,
   "id": "07fb1ea3",
   "metadata": {},
   "outputs": [
    {
     "name": "stdout",
     "output_type": "stream",
     "text": [
      "0 1 1 2 3 5 "
     ]
    }
   ],
   "source": [
    "#Create a tuple of the first 5 Fibonacci numbers.\n",
    "def gen_fib(n):\n",
    "    if n <=1:\n",
    "        return n\n",
    "        my_fib.append(n)\n",
    "    else:\n",
    "        return gen_fib(n-1)+gen_fib(n-2)\n",
    "gen_fib(5)\n",
    "for i in range(0, 6):\n",
    "    print(gen_fib(i), end=\" \")\n",
    "\n",
    "\n"
   ]
  },
  {
   "cell_type": "code",
   "execution_count": 36,
   "id": "a293c6ac",
   "metadata": {},
   "outputs": [
    {
     "name": "stdout",
     "output_type": "stream",
     "text": [
      "Enter multiple values: 1 2 3 4 5\n",
      "List of students:  1 2 3 4 5\n",
      "(1, 2, 3, 4, 5)\n"
     ]
    }
   ],
   "source": [
    "#Create a tuple from user input.\n",
    "x,y,z,w,q= list(map(int, input(\"Enter multiple values: \").split()))\n",
    "print(\"List of students: \", x,y,z,w,q)\n",
    "a=[x,y,z,w,q]\n",
    "print(tuple(a))"
   ]
  },
  {
   "cell_type": "code",
   "execution_count": 43,
   "id": "8625f438",
   "metadata": {},
   "outputs": [
    {
     "name": "stdout",
     "output_type": "stream",
     "text": [
      "('cherry', 'banana', 'apple')\n"
     ]
    }
   ],
   "source": [
    "#43. Swap two elements in a tuple.\n",
    "x = (\"apple\", \"banana\", \"cherry\")\n",
    "y = list(x)\n",
    "y[0] = \"cherry\"\n",
    "y[-1] = \"apple\"\n",
    "x = tuple(y)\n",
    "\n",
    "print(x)"
   ]
  },
  {
   "cell_type": "code",
   "execution_count": 7,
   "id": "fc3002d5",
   "metadata": {},
   "outputs": [
    {
     "name": "stdout",
     "output_type": "stream",
     "text": [
      "[1, 2, 3, 4]\n",
      "(4, 3, 2, 1)\n"
     ]
    }
   ],
   "source": [
    "#44. Reverse the elements of a tuple.\n",
    "x = (1,2,3,4)\n",
    "y = list(x)\n",
    "print(y)\n",
    "a=(y[::-1])\n",
    "x1=tuple(a)\n",
    "print(x1)"
   ]
  },
  {
   "cell_type": "code",
   "execution_count": 21,
   "id": "26fdac7a",
   "metadata": {},
   "outputs": [
    {
     "name": "stdout",
     "output_type": "stream",
     "text": [
      "[1, 4, 9, 16]\n"
     ]
    }
   ],
   "source": [
    "#Create a tuple of the first `n` powers of 2.\n",
    "x = (1,2,3,4)\n",
    "def power():\n",
    "    l=[]\n",
    "    for i in range(0,len(x)):\n",
    "        l.append(pow(x[i],2))\n",
    "print(l)\n",
    "\n",
    "    \n"
   ]
  },
  {
   "cell_type": "code",
   "execution_count": 17,
   "id": "a1e99c9a",
   "metadata": {},
   "outputs": [
    {
     "name": "stdout",
     "output_type": "stream",
     "text": [
      "(1, 4, 9, 16)\n"
     ]
    }
   ],
   "source": [
    "#Create a tuple of the first `n` powers of 2.\n",
    "x = (1,2,3,4)\n",
    "l=[]\n",
    "for i in range(0,len(x)):\n",
    "    l.append(pow(x[i],2))\n",
    "print(tuple(l))"
   ]
  },
  {
   "cell_type": "code",
   "execution_count": 37,
   "id": "56653ca0",
   "metadata": {},
   "outputs": [
    {
     "name": "stdout",
     "output_type": "stream",
     "text": [
      "xy shortest string\n"
     ]
    }
   ],
   "source": [
    "#Find the shortest string in a tuple of strings.\n",
    "x = ('ani',\"mandal\",\"xy\")\n",
    "y=list(x)\n",
    "for i in y:\n",
    "    if len(i)==1 or len(i)<=2:\n",
    "        print(i,'shortest string')\n",
    "\n",
    "    elif len(i)>=3 :\n",
    "        continue\n",
    "    else:\n",
    "        print('not shortest')\n"
   ]
  },
  {
   "cell_type": "code",
   "execution_count": 83,
   "id": "61a48335",
   "metadata": {},
   "outputs": [
    {
     "name": "stdout",
     "output_type": "stream",
     "text": [
      "(1, 3, 6, 10, 15, 21)\n"
     ]
    }
   ],
   "source": [
    "#Create a tuple of the first `n` triangular numbers.\n",
    "tri=[]\n",
    "\n",
    "def triangularnum(num):\n",
    "    sum=0\n",
    "    for i in range(1,num+1):\n",
    "        \n",
    "        sum += i\n",
    "        tri.append(sum)\n",
    "    #print(tri)\n",
    "triangularnum(6)\n",
    "tri_num=()\n",
    "tri_num=tuple(tri)\n",
    "print(tri_num)\n"
   ]
  },
  {
   "cell_type": "code",
   "execution_count": 93,
   "id": "fa626dd9",
   "metadata": {},
   "outputs": [
    {
     "name": "stdout",
     "output_type": "stream",
     "text": [
      "False\n"
     ]
    }
   ],
   "source": [
    "#Check if a tuple contains another tuple as a subsequence.\n",
    "test_tup1=(1, 3, 6, 10, 15, 21,(2,3,4),(5,6,7))\n",
    "test_tup2=(2,3,4)\n",
    "res = set(test_tup2).issubset(test_tup1)\n",
    "print(res)\n"
   ]
  },
  {
   "cell_type": "code",
   "execution_count": 116,
   "id": "bca6030b",
   "metadata": {},
   "outputs": [
    {
     "name": "stdout",
     "output_type": "stream",
     "text": [
      "enter the length : 8\n"
     ]
    },
    {
     "data": {
      "text/plain": [
       "(1, 0, 1, 0, 1, 0, 1, 0, 1, 0, 1, 0, 1, 0, 1, 0)"
      ]
     },
     "execution_count": 116,
     "metadata": {},
     "output_type": "execute_result"
    }
   ],
   "source": [
    "\n",
    "#Create a tuple of alternating 1s and 0s of length `n`.\n",
    "\n",
    "n=int(input('enter the length : '))\n",
    "tuple([1,0] * n)"
   ]
  },
  {
   "cell_type": "code",
   "execution_count": 117,
   "id": "d1572542",
   "metadata": {},
   "outputs": [
    {
     "data": {
      "text/plain": [
       "{1, 2, 3, 4, 5}"
      ]
     },
     "execution_count": 117,
     "metadata": {},
     "output_type": "execute_result"
    }
   ],
   "source": [
    "#Create a set with integers from 1 to 5.\n",
    "set(range(1,6))\n"
   ]
  },
  {
   "cell_type": "code",
   "execution_count": 128,
   "id": "42e2ba2f",
   "metadata": {},
   "outputs": [
    {
     "name": "stdout",
     "output_type": "stream",
     "text": [
      "{1, 2, 3, 4, 5, 8}\n"
     ]
    }
   ],
   "source": [
    "#Add an element to a set.\n",
    "myset={1, 2, 3, 4, 5}\n",
    "t=8\n",
    "myset.add(t)\n",
    "print(myset)"
   ]
  },
  {
   "cell_type": "code",
   "execution_count": 129,
   "id": "7b479b90",
   "metadata": {},
   "outputs": [
    {
     "name": "stdout",
     "output_type": "stream",
     "text": [
      "{1, 2, 3, 4}\n"
     ]
    }
   ],
   "source": [
    "#Remove an element from a set.\n",
    "myset={1, 2, 3, 4, 5}\n",
    "t=5\n",
    "myset.remove(t)\n",
    "print(myset)"
   ]
  },
  {
   "cell_type": "code",
   "execution_count": 133,
   "id": "28d518a1",
   "metadata": {},
   "outputs": [
    {
     "name": "stdout",
     "output_type": "stream",
     "text": [
      "5 exists in a set\n"
     ]
    }
   ],
   "source": [
    "#Check if an element exists in a set.\n",
    "myset={1, 2, 3, 4, 5}\n",
    "t=5\n",
    "for i in myset:\n",
    "    if (i==t):\n",
    "        print(t,'exists in a set')"
   ]
  },
  {
   "cell_type": "code",
   "execution_count": 134,
   "id": "60d8b603",
   "metadata": {},
   "outputs": [
    {
     "name": "stdout",
     "output_type": "stream",
     "text": [
      "5\n"
     ]
    }
   ],
   "source": [
    "#Find the length of a set without using the `len()` function.\n",
    "myset={1, 2, 3, 4, 5}\n",
    "sum=0\n",
    "for i in myset:\n",
    "    sum = sum+i\n",
    "print(i)"
   ]
  },
  {
   "cell_type": "code",
   "execution_count": 137,
   "id": "cdff39e7",
   "metadata": {},
   "outputs": [
    {
     "name": "stdout",
     "output_type": "stream",
     "text": [
      "set()\n"
     ]
    }
   ],
   "source": [
    "#Clear all elements from a set.\n",
    "myset={1, 2, 3, 4, 5}\n",
    "myset.clear()\n",
    "print(myset)"
   ]
  },
  {
   "cell_type": "code",
   "execution_count": 139,
   "id": "0c6e6cd3",
   "metadata": {},
   "outputs": [
    {
     "data": {
      "text/plain": [
       "{2, 4, 6, 8, 10}"
      ]
     },
     "execution_count": 139,
     "metadata": {},
     "output_type": "execute_result"
    }
   ],
   "source": [
    "#Create a set of even numbers from 1 to 10.\n",
    "{i for i in range(1,11) if i%2==0}"
   ]
  },
  {
   "cell_type": "code",
   "execution_count": 140,
   "id": "7b0f251f",
   "metadata": {},
   "outputs": [
    {
     "data": {
      "text/plain": [
       "{1, 3, 5, 7, 9}"
      ]
     },
     "execution_count": 140,
     "metadata": {},
     "output_type": "execute_result"
    }
   ],
   "source": [
    "#Create a set of odd numbers from 1 to 10.\n",
    "{i for i in range(1,11) if i%2!=0}"
   ]
  },
  {
   "cell_type": "code",
   "execution_count": 143,
   "id": "9ce4bb03",
   "metadata": {},
   "outputs": [
    {
     "name": "stdout",
     "output_type": "stream",
     "text": [
      "{1, 2, 3, 4, 5, 6, 7, 8, 9, 10}\n"
     ]
    }
   ],
   "source": [
    "#Find the union of two sets.\n",
    "myset1={1, 3, 5, 7, 9}\n",
    "myset2={2, 4, 6, 8, 10}\n",
    "myset3={}\n",
    "myset3=myset1.union(myset2)\n",
    "print(myset3)"
   ]
  },
  {
   "cell_type": "code",
   "execution_count": 165,
   "id": "3a9e4da6",
   "metadata": {},
   "outputs": [
    {
     "name": "stdout",
     "output_type": "stream",
     "text": [
      "the intersection of two sets are\n",
      "the intersection of two sets are\n",
      "5\n",
      "the intersection of two sets are\n",
      "7\n",
      "the intersection of two sets are\n",
      "9\n",
      "the intersection of two sets are\n"
     ]
    }
   ],
   "source": [
    "#Find the intersection of two sets.\n",
    "myset1={1, 3, 5, 7, 9}\n",
    "myset2={5,6,7,8,9}\n",
    "myset3={}\n",
    "for i in myset1:\n",
    "    for j in myset2:\n",
    "        if (i==j):\n",
    "            print(i)\n",
    "    print('the intersection of two sets are')\n",
    "    i=i+1\n",
    "        \n",
    "           "
   ]
  },
  {
   "cell_type": "code",
   "execution_count": 168,
   "id": "b594e69c",
   "metadata": {},
   "outputs": [
    {
     "name": "stdout",
     "output_type": "stream",
     "text": [
      "{5, 6}\n",
      "{1, 2}\n"
     ]
    }
   ],
   "source": [
    "#Find the difference between two sets.\n",
    "a={3,4,5,6}\n",
    "b={1,2,3,4}\n",
    "c={}\n",
    "d={}\n",
    "c=a-b\n",
    "d=b-a\n",
    "print(c)\n",
    "\n",
    "print(d)\n"
   ]
  },
  {
   "cell_type": "code",
   "execution_count": 171,
   "id": "eb845107",
   "metadata": {},
   "outputs": [
    {
     "name": "stdout",
     "output_type": "stream",
     "text": [
      "False\n"
     ]
    }
   ],
   "source": [
    "#Check if a set is a subset of another set.\n",
    "a={3,4,5,6}\n",
    "b={1,2,3,4}\n",
    "c={}\n",
    "c=a.issubset(b)\n",
    "print(c)"
   ]
  },
  {
   "cell_type": "code",
   "execution_count": 172,
   "id": "f13d5413",
   "metadata": {},
   "outputs": [
    {
     "name": "stdout",
     "output_type": "stream",
     "text": [
      "False\n"
     ]
    }
   ],
   "source": [
    "#Check if a set is a superset of another set.\n",
    "a={3,4,5,6}\n",
    "b={1,2,3,4}\n",
    "c={}\n",
    "c=a.issuperset(b)\n",
    "print(c)"
   ]
  },
  {
   "cell_type": "code",
   "execution_count": 180,
   "id": "e2cb6406",
   "metadata": {},
   "outputs": [
    {
     "name": "stdout",
     "output_type": "stream",
     "text": [
      "{0, 1, 2, 3, 4, 5, 6, 7, 8, 9, 10}\n"
     ]
    },
    {
     "data": {
      "text/plain": [
       "set"
      ]
     },
     "execution_count": 180,
     "metadata": {},
     "output_type": "execute_result"
    }
   ],
   "source": [
    "#Create a set from a list.\n",
    "a=list(range(0,11))\n",
    "b={}\n",
    "b=set(a)\n",
    "print(b)\n",
    "type(b)"
   ]
  },
  {
   "cell_type": "code",
   "execution_count": 181,
   "id": "726f6219",
   "metadata": {},
   "outputs": [
    {
     "name": "stdout",
     "output_type": "stream",
     "text": [
      "[0, 1, 2, 3, 4, 5, 6, 7, 8, 9, 10]\n"
     ]
    }
   ],
   "source": [
    "#Convert a set to a list.\n",
    "a={0, 1, 2, 3, 4, 5, 6, 7, 8, 9, 10}\n",
    "b=[]\n",
    "b=list(a)\n",
    "print(b)"
   ]
  },
  {
   "cell_type": "code",
   "execution_count": 184,
   "id": "e43588c1",
   "metadata": {},
   "outputs": [
    {
     "name": "stdout",
     "output_type": "stream",
     "text": [
      "{1, 2, 3, 4, 5, 6, 7, 8, 9, 10}\n"
     ]
    }
   ],
   "source": [
    "#Remove a random element from a set.\n",
    "a={0, 1, 2, 3, 4, 5, 6, 7, 8, 9, 10}\n",
    "ele=0\n",
    "a.remove(ele)\n",
    "print(a)"
   ]
  },
  {
   "cell_type": "code",
   "execution_count": 186,
   "id": "9e7ab812",
   "metadata": {},
   "outputs": [
    {
     "name": "stdout",
     "output_type": "stream",
     "text": [
      "{2, 3, 4, 5, 6, 7, 8, 9, 10}\n"
     ]
    }
   ],
   "source": [
    "#Pop an element from a set.\n",
    "a={1, 2, 3, 4, 5, 6, 7, 8, 9, 10}\n",
    "a.pop()\n",
    "print(a)"
   ]
  },
  {
   "cell_type": "code",
   "execution_count": 202,
   "id": "c9f7b115",
   "metadata": {},
   "outputs": [
    {
     "name": "stdout",
     "output_type": "stream",
     "text": [
      "no element in common\n",
      "no element in common\n",
      "no element in common\n",
      "no element in common\n",
      "no element in common\n",
      "no element in common\n",
      "no element in common\n",
      "no element in common\n",
      "no element in common\n",
      "no element in common\n",
      "no element in common\n",
      "no element in common\n",
      "no element in common\n",
      "no element in common\n",
      "no element in common\n"
     ]
    }
   ],
   "source": [
    "#Check if two sets have no elements in common.\n",
    "myset1={1, 3, 5, 7, 9}\n",
    "myset2={10,11,12}\n",
    "myset3={}\n",
    "for i in myset1:\n",
    "    for j in myset2:\n",
    "        if (i!=j):\n",
    "            \n",
    "            i=i+1\n",
    "            print('no element in common')\n",
    "    \n",
    "        else:\n",
    "            print('common elemnet exists')        "
   ]
  },
  {
   "cell_type": "code",
   "execution_count": 203,
   "id": "19598794",
   "metadata": {},
   "outputs": [
    {
     "data": {
      "text/plain": [
       "{1, 3, 6, 8}"
      ]
     },
     "execution_count": 203,
     "metadata": {},
     "output_type": "execute_result"
    }
   ],
   "source": [
    "#Find the symmetric difference between two sets.\n",
    "myset1={1, 3, 5, 7, 9}\n",
    "myset2={5,6,7,8,9}\n",
    "myset1.symmetric_difference(myset2)"
   ]
  },
  {
   "cell_type": "code",
   "execution_count": 205,
   "id": "c55cc4a4",
   "metadata": {},
   "outputs": [
    {
     "name": "stdout",
     "output_type": "stream",
     "text": [
      "{1, 3, 5, 6, 7, 8, 9}\n"
     ]
    }
   ],
   "source": [
    "#Update a set with elements from another set.\n",
    "myset1={1, 3, 5, 7, 9}\n",
    "myset2={5,6,7,8,9}\n",
    "myset1.update(myset2)\n",
    "print(myset1)"
   ]
  },
  {
   "cell_type": "code",
   "execution_count": null,
   "id": "f85d9f5c",
   "metadata": {},
   "outputs": [],
   "source": []
  },
  {
   "cell_type": "code",
   "execution_count": 217,
   "id": "49f72d1a",
   "metadata": {},
   "outputs": [
    {
     "name": "stdout",
     "output_type": "stream",
     "text": [
      "first 5 prime numbers are\n",
      "{2, 3, 5, 7, 11}\n"
     ]
    }
   ],
   "source": [
    "lower = 2\n",
    "upper = 12\n",
    "lst=[]\n",
    "print(\"first 5 prime numbers are\")\n",
    "for num in range(lower, upper + 1):\n",
    "    for i in range(2, num):\n",
    "        if (num % i) == 0:\n",
    "            break\n",
    "    else: \n",
    "        lst.append(num)\n",
    "\n",
    "myset=set(lst)\n",
    "print(myset)\n"
   ]
  },
  {
   "cell_type": "code",
   "execution_count": 229,
   "id": "c1b63626",
   "metadata": {},
   "outputs": [
    {
     "name": "stdout",
     "output_type": "stream",
     "text": [
      "False\n"
     ]
    }
   ],
   "source": [
    "#Check if two sets are identical.\n",
    "a={'a','b','c','d'}\n",
    "b={'e','g','h','h'}\n",
    "for i in a:\n",
    "    for j in b:\n",
    "        if (i==j):\n",
    "            print(True)\n",
    "else:\n",
    "    print(False)"
   ]
  },
  {
   "cell_type": "code",
   "execution_count": 234,
   "id": "9552a230",
   "metadata": {},
   "outputs": [
    {
     "name": "stdout",
     "output_type": "stream",
     "text": [
      "True\n",
      "False\n"
     ]
    }
   ],
   "source": [
    "#Create a frozen set.\n",
    "a=frozenset(['a','b','c','d'])\n",
    "print('d'in a)\n",
    "print('t'in a)"
   ]
  },
  {
   "cell_type": "code",
   "execution_count": 236,
   "id": "7af9055e",
   "metadata": {},
   "outputs": [
    {
     "name": "stdout",
     "output_type": "stream",
     "text": [
      "False , yes disjoint\n"
     ]
    }
   ],
   "source": [
    "#Check if a set is disjoint with another set.\n",
    "a={'a','b','c','d'}\n",
    "b={'e','g','h','h'}\n",
    "for i in a:\n",
    "    for j in b:\n",
    "        if (i==j):\n",
    "            print(True,', not disjoint')\n",
    "else:\n",
    "    print(False,', yes disjoint')"
   ]
  },
  {
   "cell_type": "code",
   "execution_count": 242,
   "id": "c7298a1b",
   "metadata": {},
   "outputs": [
    {
     "data": {
      "text/plain": [
       "{1, 4, 9, 16, 25}"
      ]
     },
     "execution_count": 242,
     "metadata": {},
     "output_type": "execute_result"
    }
   ],
   "source": [
    "#Create a set of squares of numbers from 1 to 5.\n",
    "{x**2 for x in range(1,6)}"
   ]
  },
  {
   "cell_type": "code",
   "execution_count": 243,
   "id": "ef82e8d9",
   "metadata": {},
   "outputs": [
    {
     "data": {
      "text/plain": [
       "{2, 4, 6, 8, 10}"
      ]
     },
     "execution_count": 243,
     "metadata": {},
     "output_type": "execute_result"
    }
   ],
   "source": [
    "#Filter out all even numbers from a set.\n",
    "{i for i in range(1,11) if (i%2==0)}"
   ]
  },
  {
   "cell_type": "code",
   "execution_count": 268,
   "id": "b2e6a4ee",
   "metadata": {},
   "outputs": [
    {
     "name": "stdout",
     "output_type": "stream",
     "text": [
      "[2, 8, 18, 32, 50, 72, 98, 128, 162, 200]\n"
     ]
    }
   ],
   "source": [
    "#Multiply all elements in a set by 2.\n",
    "\n",
    "l = {1, 4, 9, 16, 25, 36, 49, 64, 81, 100}\n",
    "l=list(l)\n",
    "result = []\n",
    "for i in range(0,len(l)):\n",
    "    result.append(l[i] * 2)\n",
    "print(sorted(set(result)))\n",
    "\n",
    "    "
   ]
  },
  {
   "cell_type": "code",
   "execution_count": 281,
   "id": "c73c5535",
   "metadata": {},
   "outputs": [
    {
     "name": "stdout",
     "output_type": "stream",
     "text": [
      "[8, 6, 9, 9, 9, 3, 4, 4, 9, 6]\n"
     ]
    }
   ],
   "source": [
    "#Create a set of random numbers.\n",
    "import random\n",
    "rand_list=[]\n",
    "n=10\n",
    "for i in range(n):\n",
    "    rand_list.append(random.randint(3,9))\n",
    "a={}\n",
    "a=set(rand_list)\n",
    "print(rand_list)\n"
   ]
  },
  {
   "cell_type": "code",
   "execution_count": 283,
   "id": "269a1b9c",
   "metadata": {},
   "outputs": [
    {
     "name": "stdout",
     "output_type": "stream",
     "text": [
      "non-empty set\n"
     ]
    }
   ],
   "source": [
    "#Check if a set is empty.\n",
    "myset={2, 4, 6, 8, 10}\n",
    "set_chk={}\n",
    "if (myset==set_chk):\n",
    "    print('empty set')\n",
    "else:\n",
    "    print('non-empty set')"
   ]
  },
  {
   "cell_type": "code",
   "execution_count": 296,
   "id": "9b74f6ed",
   "metadata": {},
   "outputs": [
    {
     "name": "stdout",
     "output_type": "stream",
     "text": [
      "{(2, 3), (4, 5), (1, 2)}\n"
     ]
    }
   ],
   "source": [
    "#Create a nested set (hint: use frozenset).\n",
    "#myset=frozenset([1,2,3,4,5,6])\n",
    "s = set()\n",
    "s.add((1,2))\n",
    "s.add((2,3))\n",
    "s.add((4,5))\n",
    "#s{frozenset({1, 2}), frozenset({2, 3}), frozenset({4, 5})}\n",
    "print(s)"
   ]
  },
  {
   "cell_type": "code",
   "execution_count": 299,
   "id": "a7fe423c",
   "metadata": {},
   "outputs": [
    {
     "name": "stdout",
     "output_type": "stream",
     "text": [
      "{2, 4, 8, 10}\n"
     ]
    }
   ],
   "source": [
    "#Remove an element from a set using the discard method.\n",
    "a={2, 4, 6, 8, 10}\n",
    "t=6\n",
    "a.discard(t)\n",
    "print(a)"
   ]
  },
  {
   "cell_type": "code",
   "execution_count": 300,
   "id": "bd5dc6bc",
   "metadata": {},
   "outputs": [
    {
     "data": {
      "text/plain": [
       "False"
      ]
     },
     "execution_count": 300,
     "metadata": {},
     "output_type": "execute_result"
    }
   ],
   "source": [
    "#Compare two sets.\n",
    "a = {1, 2, 3}\n",
    "b = {1, 2, 5}\n",
    "a < b"
   ]
  },
  {
   "cell_type": "code",
   "execution_count": 315,
   "id": "fc8dbecc",
   "metadata": {},
   "outputs": [
    {
     "name": "stdout",
     "output_type": "stream",
     "text": [
      "[',', 'a', 'b', 'c', 'd', 'e', 'f', 'g', 'h', 'i', 'j']\n"
     ]
    },
    {
     "data": {
      "text/plain": [
       "set"
      ]
     },
     "execution_count": 315,
     "metadata": {},
     "output_type": "execute_result"
    }
   ],
   "source": [
    "#Create a set from a string.\n",
    "a='a,b,c,d,e,f,g,h,i,j'\n",
    "b={}\n",
    "b=set(a)\n",
    "print(sorted(b))\n",
    "type(b)"
   ]
  },
  {
   "cell_type": "code",
   "execution_count": 328,
   "id": "0f99506b",
   "metadata": {},
   "outputs": [
    {
     "name": "stdout",
     "output_type": "stream",
     "text": [
      "{1, 2, 77, 7}\n"
     ]
    }
   ],
   "source": [
    "#Convert a set of strings to a set of integers.\n",
    "\n",
    "set1= { '1', '2','77','7' }\n",
    "set2 = set(map(int, set1))\n",
    "print(set2)\n",
    "\n"
   ]
  },
  {
   "cell_type": "code",
   "execution_count": 329,
   "id": "be466dc1",
   "metadata": {},
   "outputs": [
    {
     "name": "stdout",
     "output_type": "stream",
     "text": [
      "{'77', '7', '1', '2'}\n"
     ]
    }
   ],
   "source": [
    "#Convert a set of integers to a set of strings.\n",
    "set1={1, 2, 77, 7}\n",
    "set2=set(map(str,set1))\n",
    "print(set2)"
   ]
  },
  {
   "cell_type": "code",
   "execution_count": 331,
   "id": "fc9a6b38",
   "metadata": {},
   "outputs": [
    {
     "name": "stdout",
     "output_type": "stream",
     "text": [
      "{1, 2, 3, 4, 5}\n"
     ]
    }
   ],
   "source": [
    "#Create a set from a tuple.\n",
    "mytup=(1,2,3,4,5)\n",
    "myset=()\n",
    "myset=set(map(int,mytup))\n",
    "print(myset)"
   ]
  },
  {
   "cell_type": "code",
   "execution_count": 333,
   "id": "89a0cc2f",
   "metadata": {},
   "outputs": [
    {
     "name": "stdout",
     "output_type": "stream",
     "text": [
      "(1, 2, 3, 4, 5)\n"
     ]
    }
   ],
   "source": [
    "#Convert a set to a tuple.\n",
    "a={1, 2, 3, 4, 5}\n",
    "b=()\n",
    "b=tuple(a)\n",
    "print(b)"
   ]
  },
  {
   "cell_type": "code",
   "execution_count": 334,
   "id": "2ba5fddd",
   "metadata": {},
   "outputs": [
    {
     "name": "stdout",
     "output_type": "stream",
     "text": [
      "5\n"
     ]
    }
   ],
   "source": [
    "#Find the maximum value in a set.\n",
    "a={1, 2, 3, 4, 5}\n",
    "b=max(a)\n",
    "print(b)"
   ]
  },
  {
   "cell_type": "code",
   "execution_count": 335,
   "id": "f84420c1",
   "metadata": {},
   "outputs": [
    {
     "name": "stdout",
     "output_type": "stream",
     "text": [
      "1\n"
     ]
    }
   ],
   "source": [
    "#Find the minimum value in a set.\n",
    "a={1, 2, 3, 4, 5}\n",
    "b=min(a)\n",
    "print(b)"
   ]
  },
  {
   "cell_type": "code",
   "execution_count": 338,
   "id": "7438ce1d",
   "metadata": {},
   "outputs": [
    {
     "name": "stdout",
     "output_type": "stream",
     "text": [
      "Enter space-separated integers: 1 2 3 4 5\n",
      "(1, 2, 3, 4, 5)\n"
     ]
    }
   ],
   "source": [
    "#Create a set from user input.\n",
    "user_input = input('Enter space-separated integers: ')\n",
    "my_tuple = tuple(int(item) for item in user_input.split())\n",
    "\n",
    "print(my_tuple)"
   ]
  },
  {
   "cell_type": "code",
   "execution_count": 340,
   "id": "dede75c2",
   "metadata": {},
   "outputs": [
    {
     "name": "stdout",
     "output_type": "stream",
     "text": [
      " yes intersection of two sets are empty\n"
     ]
    }
   ],
   "source": [
    "#Check if the intersection of two sets is empty.\n",
    "a={'a','b','c','d'}\n",
    "b={'e','g','h','h'}\n",
    "for i in a:\n",
    "    for j in b:\n",
    "        if (i==j):\n",
    "            print(' intersection of two sets non-empty')\n",
    "else:\n",
    "    print(' yes intersection of two sets are empty')"
   ]
  },
  {
   "cell_type": "code",
   "execution_count": 348,
   "id": "f7c97361",
   "metadata": {},
   "outputs": [
    {
     "name": "stdout",
     "output_type": "stream",
     "text": [
      "0 1 1 2 3 5 "
     ]
    }
   ],
   "source": [
    "#Create a set of the first 5 Fibonacci numbers.\n",
    "def gen_fib(n):\n",
    "    if n <=1:\n",
    "        return n\n",
    "        my_fib.append(n)\n",
    "    else:\n",
    "        return gen_fib(n-1)+gen_fib(n-2)\n",
    "gen_fib(5)\n",
    "for i in set(range(0, 6)):\n",
    "    print(gen_fib(i), end = \" \")\n",
    "    "
   ]
  },
  {
   "cell_type": "code",
   "execution_count": 11,
   "id": "85ea928f",
   "metadata": {},
   "outputs": [
    {
     "name": "stdout",
     "output_type": "stream",
     "text": [
      "[1, 2, 3, 4, 5, 6, 7]\n"
     ]
    }
   ],
   "source": [
    "#Remove duplicates from a list using sets.\n",
    "mylist=[1,2,3,3,3,3,4,5,5,6,7,4]\n",
    "dup = []\n",
    "for i in mylist :\n",
    "    dup=list(set(mylist))\n",
    "print(dup)"
   ]
  },
  {
   "cell_type": "code",
   "execution_count": 15,
   "id": "7b616ec6",
   "metadata": {},
   "outputs": [
    {
     "name": "stdout",
     "output_type": "stream",
     "text": [
      "two sets does not have the same elements\n",
      "sets have same element\n",
      "sets have same element\n",
      "sets have same element\n",
      "sets have same element\n",
      "two sets does not have the same elements\n",
      "sets have same element\n",
      "sets have same element\n",
      "sets have same element\n",
      "sets have same element\n",
      "two sets does not have the same elements\n",
      "sets have same element\n",
      "sets have same element\n",
      "sets have same element\n",
      "sets have same element\n",
      "two sets does not have the same elements\n"
     ]
    }
   ],
   "source": [
    "#Check if two sets have the same elements, regardless of their count.\n",
    "set1={1,2,3,4}\n",
    "set2={2,3,4,1}\n",
    "for i in set1:\n",
    "    for j in set2:\n",
    "        if (i==j):\n",
    "            if len(set1)==len(set2):\n",
    "                print('two sets does not have the same elements')\n",
    "        else:\n",
    "            print('sets have same element')"
   ]
  },
  {
   "cell_type": "code",
   "execution_count": 18,
   "id": "9be14a24",
   "metadata": {},
   "outputs": [
    {
     "name": "stdout",
     "output_type": "stream",
     "text": [
      "Sets are different\n"
     ]
    }
   ],
   "source": [
    "set1={1,2,3,4}\n",
    "set2={4,3,4,1}\n",
    "count=0\n",
    "if len(set1)==len(set2):\n",
    "    set1=list(set1)\n",
    "    set2=list(set2)\n",
    "    for i in range(0,len(set1)):\n",
    "        for j in range(0,len(set2)):\n",
    "            if(set1[i]==set2[j]):\n",
    "                continue\n",
    "    count+=1\n",
    "else:\n",
    "    count=0\n",
    "if count==1:\n",
    "    print(\"Both SETS are equal\")\n",
    "else:\n",
    "    print('Sets are different')"
   ]
  },
  {
   "cell_type": "code",
   "execution_count": 9,
   "id": "21b834f9",
   "metadata": {},
   "outputs": [
    {
     "name": "stdout",
     "output_type": "stream",
     "text": [
      "enter the number of powers of 2 -:4\n",
      "[1, 4, 9, 16]\n"
     ]
    }
   ],
   "source": [
    "#Create a set of the first `n` powers of 2.\n",
    "n = int(input('enter the number of powers of 2 -:'))\n",
    "mylist=[]\n",
    "\n",
    "for i in range(1,n+1):\n",
    "    mylist.append(pow(i,2))\n",
    "print(sorted(set(mylist)))\n",
    "\n"
   ]
  },
  {
   "cell_type": "code",
   "execution_count": 22,
   "id": "177e2060",
   "metadata": {},
   "outputs": [
    {
     "name": "stdout",
     "output_type": "stream",
     "text": [
      "[2]\n"
     ]
    }
   ],
   "source": [
    "#Find the common elements between a set and a list.\n",
    "myset={1,2,3,4}\n",
    "mylist=[2,6,7,8,9]\n",
    "lst=[]\n",
    "for i in myset:\n",
    "    for j in mylist:\n",
    "        if (i==j):\n",
    "            lst.append(j)\n",
    "print(lst)"
   ]
  },
  {
   "cell_type": "code",
   "execution_count": 25,
   "id": "136f3d98",
   "metadata": {},
   "outputs": [
    {
     "name": "stdout",
     "output_type": "stream",
     "text": [
      "{1, 3, 6, 10, 15, 21}\n"
     ]
    }
   ],
   "source": [
    "#Create a set of the first `n` triangular numbers.\n",
    "tri=[]\n",
    "\n",
    "def triangularnum(num):\n",
    "    sum=0\n",
    "    for i in range(1,num+1):\n",
    "        \n",
    "        sum += i\n",
    "        tri.append(sum)\n",
    "    #print(tri)\n",
    "triangularnum(6)\n",
    "tri_num=()\n",
    "tri_num=set(tri)\n",
    "print(tri_num)"
   ]
  },
  {
   "cell_type": "code",
   "execution_count": 27,
   "id": "550dbcfe",
   "metadata": {},
   "outputs": [
    {
     "data": {
      "text/plain": [
       "False"
      ]
     },
     "execution_count": 27,
     "metadata": {},
     "output_type": "execute_result"
    }
   ],
   "source": [
    "#Check if a set contains another set as a subset.\n",
    "a={1, 3, 6, 10, 15, 21}\n",
    "b={3456,345678,456789}\n",
    "a.issubset(b)"
   ]
  },
  {
   "cell_type": "code",
   "execution_count": 33,
   "id": "5e37fd8b",
   "metadata": {},
   "outputs": [
    {
     "name": "stdout",
     "output_type": "stream",
     "text": [
      "enter the length : 6\n"
     ]
    },
    {
     "data": {
      "text/plain": [
       "{0, 1}"
      ]
     },
     "execution_count": 33,
     "metadata": {},
     "output_type": "execute_result"
    }
   ],
   "source": [
    "#Create a set of alternating 1s and 0s of length `n`.\n",
    "n=int(input('enter the length : '))\n",
    "li=[]\n",
    "set([1,0] * n)\n"
   ]
  },
  {
   "cell_type": "code",
   "execution_count": 36,
   "id": "76a04851",
   "metadata": {},
   "outputs": [
    {
     "name": "stdout",
     "output_type": "stream",
     "text": [
      "{0, 1, 3, 6, 10, 15, 21}\n"
     ]
    }
   ],
   "source": [
    "#Merge multiple sets into one.\n",
    "a={1, 3, 6, 10, 15, 21}\n",
    "b={0,1}\n",
    "a.update(b)\n",
    "print(a)"
   ]
  },
  {
   "cell_type": "code",
   "execution_count": null,
   "id": "4121108f",
   "metadata": {},
   "outputs": [],
   "source": []
  }
 ],
 "metadata": {
  "kernelspec": {
   "display_name": "Python 3",
   "language": "python",
   "name": "python3"
  },
  "language_info": {
   "codemirror_mode": {
    "name": "ipython",
    "version": 3
   },
   "file_extension": ".py",
   "mimetype": "text/x-python",
   "name": "python",
   "nbconvert_exporter": "python",
   "pygments_lexer": "ipython3",
   "version": "3.8.8"
  }
 },
 "nbformat": 4,
 "nbformat_minor": 5
}
